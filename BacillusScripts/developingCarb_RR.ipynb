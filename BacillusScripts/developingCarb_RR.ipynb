{
 "cells": [
  {
   "cell_type": "code",
   "execution_count": 14,
   "metadata": {},
   "outputs": [],
   "source": [
    "import sys\n",
    "sys.path.append(\"V:/biomoni/\") \n",
    "from biomoni import Experiment\n",
    "from BacillusScripts.BacillusVariableFeedrate_copy import Bacillus_vf\n",
    "from biomoni import Model\n",
    "import scipy\n",
    "from scipy.interpolate import interp1d\n",
    "import pandas as pd\n",
    "import numpy as np"
   ]
  },
  {
   "cell_type": "code",
   "execution_count": null,
   "metadata": {},
   "outputs": [],
   "source": [
    "path = r\"V:/biomoni/BacillusData/Stamm185\"\n",
    "\n",
    "experiment_dict_for_estimation = {exp : Experiment(path, exp,endpoint = \"Sim_end\") for exp in [\"F5\"]}  #all experiments in a dictionary   \n",
    "experiment_dict_for_graphs = {exp : Experiment(path, exp, endpoint = \"F_end\") for exp in [\"F5\"]} \n",
    "\n",
    "\n",
    "\n",
    "#Exp = experiment_dict \n",
    "b= Bacillus_vf()\n",
    "b.estimate(experiment_dict_for_estimation)\n",
    "b.report()\n",
    "print(b.p)\n"
   ]
  },
  {
   "cell_type": "code",
   "execution_count": 17,
   "metadata": {},
   "outputs": [
    {
     "name": "stdout",
     "output_type": "stream",
     "text": [
      "mX0 changed to 0.0133800816825\n"
     ]
    },
    {
     "name": "stderr",
     "output_type": "stream",
     "text": [
      "V:\\biomoni\\BacillusScripts\\BacillusVariableFeedrate_copy.py:796: IntegrationWarning: The occurrence of roundoff error is detected, which prevents \n",
      "  the requested tolerance from being achieved.  The error may be \n",
      "  underestimated.\n",
      "  cummulation = scipy.integrate.quad(func,0,t,limit=200)\n",
      "V:\\biomoni\\BacillusScripts\\BacillusVariableFeedrate_copy.py:796: IntegrationWarning: The maximum number of subdivisions (200) has been achieved.\n",
      "  If increasing the limit yields no improvement it is advised to analyze \n",
      "  the integrand in order to determine the difficulties.  If the position of a \n",
      "  local difficulty can be determined (singularity, discontinuity) one will \n",
      "  probably gain from splitting up the interval and calling the integrator \n",
      "  on the subranges.  Perhaps a special-purpose integrator should be used.\n",
      "  cummulation = scipy.integrate.quad(func,0,t,limit=200)\n",
      "V:\\biomoni\\BacillusScripts\\BacillusVariableFeedrate_copy.py:822: IntegrationWarning: The maximum number of subdivisions (200) has been achieved.\n",
      "  If increasing the limit yields no improvement it is advised to analyze \n",
      "  the integrand in order to determine the difficulties.  If the position of a \n",
      "  local difficulty can be determined (singularity, discontinuity) one will \n",
      "  probably gain from splitting up the interval and calling the integrator \n",
      "  on the subranges.  Perhaps a special-purpose integrator should be used.\n",
      "  cummulation = scipy.integrate.quad(func,0,t,limit=200)\n"
     ]
    },
    {
     "name": "stdout",
     "output_type": "stream",
     "text": [
      "<class 'pandas.core.frame.DataFrame'>\n",
      "{'F5': {'CR1':            feedrate pure glucose g/h   Glc g_cum     CO2 %   V_CO2 L  \\\n",
      "0.069444                    0.000000    0.000000  0.047000  0.002100   \n",
      "16.069444                   0.000000    0.000000  0.207583  0.050275   \n",
      "17.752778                   0.000000    0.000000  0.335067  0.088520   \n",
      "18.586111                   3.297837    3.024035  0.397650  0.107295   \n",
      "19.836111                   3.611917    7.351651  0.496550  0.136965   \n",
      "20.802778                   3.856201   10.964868  0.592650  0.165795   \n",
      "21.702778                   4.083037   14.536210  0.673450  0.190035   \n",
      "22.852778                   4.362218   19.393836  0.784500  0.223350   \n",
      "39.452778                   6.630572  119.197885  4.941500  1.470450   \n",
      "40.719444                   6.630572  127.597166  4.936000  1.468800   \n",
      "41.952778                   6.630572  135.775234  4.782500  1.422750   \n",
      "43.402778                   6.630572  145.483693  4.406500  1.309950   \n",
      "44.736111                   6.630572  154.229783  4.352500  1.293750   \n",
      "46.052778                   6.630572  162.960357  4.268500  1.268550   \n",
      "47.336111                   6.630572  170.567817  4.256000  1.264800   \n",
      "63.719444                   3.140797  245.033447  0.266500  0.067950   \n",
      "\n",
      "           CO2 L_cum  CO2 mol_cum         RR  \n",
      "0.069444    0.000069     0.000003  97.841492  \n",
      "16.069444   0.159935     0.006373  98.000776  \n",
      "17.752778   0.275302     0.010971  94.489137  \n",
      "18.586111   0.356480     0.014205  82.387471  \n",
      "19.836111   0.507634     0.020229  74.583568  \n",
      "20.802778   0.653583     0.026045  70.045338  \n",
      "21.702778   0.813711     0.032426  67.978380  \n",
      "22.852778   1.051227     0.041890  68.447516  \n",
      "39.452778  13.537942     0.539473  41.838731  \n",
      "40.719444  15.407798     0.613984  43.468889  \n",
      "41.952778  17.185661     0.684830  41.797209  \n",
      "43.402778  19.180585     0.764326  40.538810  \n",
      "44.736111  20.958377     0.835169  39.189827  \n",
      "46.052778  22.603449     0.900723  36.247661  \n",
      "47.336111  24.212251     0.964833  36.069285  \n",
      "63.719444  41.826279     1.666733  14.982411  , 'CR2':             t     given     found         RR\n",
      "0    0.069444  0.519105  0.507900  97.841492\n",
      "1   16.069444  0.519105  0.508726  98.000776\n",
      "2   17.752778  0.519105  0.490497  94.489137\n",
      "3   18.586111  0.619818  0.510653  82.387471\n",
      "4   19.836111  0.763947  0.569779  74.583568\n",
      "5   20.802778  0.884284  0.619399  70.045338\n",
      "6   21.702778  1.003225  0.681976  67.978380\n",
      "7   22.852778  1.165006  0.797418  68.447516\n",
      "8   39.452778  4.488927  1.878110  41.838731\n",
      "9   40.719444  4.768660  2.072884  43.468889\n",
      "10  41.952778  5.041027  2.107008  41.797209\n",
      "11  43.402778  5.364362  2.174648  40.538810\n",
      "12  44.736111  5.655646  2.216438  39.189827\n",
      "13  46.052778  5.946413  2.155436  36.247661\n",
      "14  47.336111  6.199775  2.236215  36.069285\n",
      "15  63.719444  8.679813  1.300445  14.982411}}\n"
     ]
    }
   ],
   "source": [
    "t_grid = np.linspace(0,64,1001) \n",
    "sim_dict_all = {experiment.exp_id: b.simulate(experiment = experiment, t_grid = t_grid) for experiment in experiment_dict_for_estimation.values()} \n",
    "\n",
    "CRR_all ={}\n",
    "\n",
    "for key in experiment_dict_for_graphs.keys():\n",
    "    CRR_all[key]= {}\n",
    "\n",
    "for key, dat in sim_dict_all.items():\n",
    "    V_func= interp1d(x=sim_dict_all[key][\"V\"].index, y=sim_dict_all[key][\"V\"], fill_value = (sim_dict_all[key][\"V\"].iloc[0], sim_dict_all[key][\"V\"].iloc[-1]) , bounds_error= False)\n",
    "    exp =Experiment(path, key, endpoint=\"F_end\")\n",
    "    c = b.create_controls(exp)\n",
    "    y0 = b.create_y0(exp)\n",
    "    #datasaet = exp.dataset\n",
    "    \n",
    "    CRR1, CRR2 = b.calc_CRR(experiment=exp,c=c,V=V_func,y0=y0)\n",
    "    \n",
    "    CRR_all[key]= {\"CR1\": CRR1,\"CR2\": CRR2}\n",
    "    \n",
    "    \n",
    "print(CRR_all)\n",
    "    \n",
    "\n",
    "\n"
   ]
  },
  {
   "cell_type": "code",
   "execution_count": null,
   "metadata": {},
   "outputs": [],
   "source": [
    "a = Experiment(path,\"F5\")\n",
    "y0 = b.create_y0(a)\n",
    "c = b.create_controls(a)\n",
    "path = r\"V:/biomoni/BacillusData/Stamm185\"\n",
    "t_grid = np.linspace(0,40,1001) \n",
    "experiment_dict_for_estimation = {exp : Experiment(path, exp,endpoint = \"Sim_end\") for exp in [\"F5\"]}  #all experiments in a dictionary   \n",
    "experiment_dict_for_graphs = {exp : Experiment(path, exp, endpoint = \"F_end\") for exp in [\"F5\"]} \n",
    "\n",
    "b.estimate(experiment_dict_for_estimation)\n",
    "b.report()\n",
    "print(b.p)\n",
    "t_grid = np.linspace(0,40,1001) \n",
    "sim_dict_all = {experiment.exp_id: b.simulate(experiment = experiment, t_grid = t_grid) for experiment in experiment_dict_for_estimation.values()} \n",
    "\n",
    "print(sim_dict_all)"
   ]
  },
  {
   "cell_type": "code",
   "execution_count": null,
   "metadata": {},
   "outputs": [],
   "source": [
    "\n",
    "a.dataset[\"CO2\"][\"V_CO2 L\"] = (a.dataset[\"CO2\"][\"CO2\"]- 0.04)/100 * 30   \n",
    "print(a.dataset[\"CO2\"])\n",
    "\n",
    "\n",
    "CO2_func = interp1d(x = a.dataset[\"CO2\"].index, \n",
    "                    y = a.dataset[\"CO2\"][\"V_CO2 L\"], fill_value = (a.dataset[\"CO2\"][\"V_CO2 L\"].iloc[0], a.dataset[\"CO2\"][\"V_CO2 L\"].iloc[-1]) ,\n",
    "                    bounds_error= False)"
   ]
  },
  {
   "cell_type": "code",
   "execution_count": 80,
   "metadata": {},
   "outputs": [
    {
     "name": "stderr",
     "output_type": "stream",
     "text": [
      "C:\\Users\\walkyre\\AppData\\Local\\Temp/ipykernel_10564/1137407779.py:22: IntegrationWarning:\n",
      "\n",
      "The occurrence of roundoff error is detected, which prevents \n",
      "  the requested tolerance from being achieved.  The error may be \n",
      "  underestimated.\n",
      "\n",
      "C:\\Users\\walkyre\\AppData\\Local\\Temp/ipykernel_10564/1137407779.py:22: IntegrationWarning:\n",
      "\n",
      "The maximum number of subdivisions (200) has been achieved.\n",
      "  If increasing the limit yields no improvement it is advised to analyze \n",
      "  the integrand in order to determine the difficulties.  If the position of a \n",
      "  local difficulty can be determined (singularity, discontinuity) one will \n",
      "  probably gain from splitting up the interval and calling the integrator \n",
      "  on the subranges.  Perhaps a special-purpose integrator should be used.\n",
      "\n",
      "C:\\Users\\walkyre\\AppData\\Local\\Temp/ipykernel_10564/1137407779.py:50: IntegrationWarning:\n",
      "\n",
      "The maximum number of subdivisions (200) has been achieved.\n",
      "  If increasing the limit yields no improvement it is advised to analyze \n",
      "  the integrand in order to determine the difficulties.  If the position of a \n",
      "  local difficulty can be determined (singularity, discontinuity) one will \n",
      "  probably gain from splitting up the interval and calling the integrator \n",
      "  on the subranges.  Perhaps a special-purpose integrator should be used.\n",
      "\n"
     ]
    },
    {
     "name": "stdout",
     "output_type": "stream",
     "text": [
      "            t     given     found         RR\n",
      "0    0.069444  0.519105  0.509701  98.188543\n",
      "1   16.069444  0.519105  0.514439  99.101165\n",
      "2   17.752778  0.519105  0.497285  95.796751\n",
      "3   18.586111  0.619818  0.515486  83.167313\n",
      "4   19.836111  0.763947  0.564973  73.954377\n",
      "5   20.802778  0.884284  0.605875  68.515939\n",
      "6   21.702778  1.003225  0.658426  65.630965\n",
      "7   22.852778  1.165006  0.754225  64.740016\n",
      "8   39.452778  4.488927  1.145557  25.519619\n",
      "9   40.719444  4.768660  1.227734  25.745880\n",
      "10  41.952778  5.041027  1.214177  24.085898\n",
      "11  43.402778  5.364362  1.214518  22.640486\n",
      "12  44.736111  5.655646  1.203883  21.286389\n",
      "13  46.052778  5.946413  1.140351  19.177121\n",
      "14  47.336111  6.199775  1.153407  18.604009\n",
      "15  63.719444  8.679813  0.564065   6.498585\n",
      "           feedrate pure glucose g/h   Glc g_cum     CO2 %   V_CO2 L  \\\n",
      "0.069444                    0.000000    0.000000  0.047000  0.002100   \n",
      "16.069444                   0.000000    0.000000  0.207583  0.050275   \n",
      "17.752778                   0.000000    0.000000  0.335067  0.088520   \n",
      "18.586111                   3.297837    3.024035  0.397650  0.107295   \n",
      "19.836111                   3.611917    7.351651  0.496550  0.136965   \n",
      "20.802778                   3.856201   10.964868  0.592650  0.165795   \n",
      "21.702778                   4.083037   14.536210  0.673450  0.190035   \n",
      "22.852778                   4.362218   19.393836  0.784500  0.223350   \n",
      "39.452778                   6.630572  119.197885  4.941500  1.470450   \n",
      "40.719444                   6.630572  127.597166  4.936000  1.468800   \n",
      "41.952778                   6.630572  135.775234  4.782500  1.422750   \n",
      "43.402778                   6.630572  145.483693  4.406500  1.309950   \n",
      "44.736111                   6.630572  154.229783  4.352500  1.293750   \n",
      "46.052778                   6.630572  162.960357  4.268500  1.268550   \n",
      "47.336111                   6.630572  170.567817  4.256000  1.264800   \n",
      "63.719444                   3.140797  245.033447  0.266500  0.067950   \n",
      "\n",
      "           CO2 L_cum  CO2 mol_cum         RR  \n",
      "0.069444    0.000069     0.000003  98.188543  \n",
      "16.069444   0.159935     0.006373  99.101165  \n",
      "17.752778   0.275302     0.010971  95.796751  \n",
      "18.586111   0.356480     0.014205  83.167313  \n",
      "19.836111   0.507634     0.020229  73.954377  \n",
      "20.802778   0.653583     0.026045  68.515939  \n",
      "21.702778   0.813711     0.032426  65.630965  \n",
      "22.852778   1.051227     0.041890  64.740016  \n",
      "39.452778  13.537942     0.539473  25.519619  \n",
      "40.719444  15.407798     0.613984  25.745880  \n",
      "41.952778  17.185661     0.684830  24.085898  \n",
      "43.402778  19.180585     0.764326  22.640486  \n",
      "44.736111  20.958377     0.835169  21.286389  \n",
      "46.052778  22.603449     0.900723  19.177121  \n",
      "47.336111  24.212251     0.964833  18.604009  \n",
      "63.719444  41.826279     1.666733   6.498585  \n"
     ]
    }
   ],
   "source": [
    "t_grid = list(a.dataset[\"off\"].index.values)\n",
    "\n",
    "Carb_RR = []\n",
    "V = 0.5\n",
    "Mw_bm = 24.445          #g/mol molecular weight of biomass assuming composition of C=1,H=1.594,N=0.293,O=0.387,P=0.012,S=0.005\n",
    "Mw_gluc = 180.156       #g/mol molecular weight of glucose C=6,H=12,O=6\n",
    "Mw_RF = 376.36          #g/mol molecular weight of Riboflavin C=17,H=20,N=4,O=6\n",
    "dV_gas_dt = c[\"gas_flow\"]\n",
    "R = 0.08314 #bar*l/mol*K\n",
    "T = c[\"T\"] + 273.15     #Kelvin  \n",
    "pressure = c[\"pressure\"] #bar\n",
    "Mw_CO2 = 44.01\n",
    "\n",
    "F_C_in = c[\"feedrate_glc\"](t_grid)\n",
    "df = pd.DataFrame(data=F_C_in,index=t_grid, columns=[\"feedrate pure glucose g/h\"])\n",
    "\n",
    "# calculate cumulated amount of Glucose from Feed\n",
    "F_C_in_cum = []\n",
    "\n",
    "for t in t_grid:\n",
    "    func = c[\"feedrate_glc\"]\n",
    "    cummulation = scipy.integrate.quad(func,0,t,limit=200)\n",
    "    \n",
    "    F_C_in_cum.append(cummulation)\n",
    "\n",
    "df[\"Glc g_cum\"] = [x[0] for x in F_C_in_cum]\n",
    "\n",
    "\n",
    "#creating column with calculcated Volume values for CO2 [L] from exhaust gas measurment\n",
    "a.dataset[\"CO2\"][\"V_CO2 L\"] = (a.dataset[\"CO2\"][\"CO2\"]- 0.04)/100 * 30   #30 L/h is F_exhaust or Outlet flow (assuming = inlet flow)\n",
    "\n",
    "CO2_func = interp1d(x = a.dataset[\"CO2\"].index, \n",
    "                    y = a.dataset[\"CO2\"][\"CO2\"], fill_value = (a.dataset[\"CO2\"][\"CO2\"].iloc[0], a.dataset[\"CO2\"][\"CO2\"].iloc[-1]) , \n",
    "                    bounds_error= False)\n",
    "\n",
    "V_CO2_func = interp1d(x = a.dataset[\"CO2\"].index, \n",
    "                    y = a.dataset[\"CO2\"][\"V_CO2 L\"], fill_value = (a.dataset[\"CO2\"][\"V_CO2 L\"].iloc[0], a.dataset[\"CO2\"][\"V_CO2 L\"].iloc[-1]) ,\n",
    "                    bounds_error= False)\n",
    "\n",
    "df[\"CO2 %\"] = CO2_func(t_grid)\n",
    "df[\"V_CO2 L\"] = V_CO2_func(t_grid)\n",
    "\n",
    "\n",
    "\n",
    "#calculate cumulated amount of CO2 in exhaust gas \n",
    "CO2_out_cum = []\n",
    "\n",
    "for t in t_grid:\n",
    "    func = V_CO2_func     \n",
    "    cummulation = scipy.integrate.quad(func,0,t,limit=200)\n",
    "    \n",
    "    CO2_out_cum.append(cummulation)\n",
    "    \n",
    "df[\"CO2 L_cum\"] = [x[0] for x in CO2_out_cum]\n",
    "\n",
    "df[\"CO2 mol_cum\"] = (df[\"CO2 L_cum\"] * pressure) / (R * T)\n",
    "\n",
    "#print(df)\n",
    "\n",
    "Carb_RR= {}\n",
    "Carb_RR[\"t\"]= t_grid\n",
    "Carb_RR[\"given\"]=[]\n",
    "Carb_RR[\"found\"]=[]\n",
    "Carb_RR[\"RR\"]=[]\n",
    "\n",
    "for t in t_grid:\n",
    "    \n",
    "    #mass balance of Carbon given (Substrate,Biomass,Product)\n",
    "    nC_Sg = y0[1]/Mw_gluc *6 + df[\"Glc g_cum\"].values[t_grid.index(t)]/Mw_gluc * 6   #initial Substrate + Substrate from Feed\n",
    "    nC_Xg = y0[0]/Mw_bm\n",
    "    nC_Pg = y0[2]/Mw_RF *17\n",
    "    \n",
    "    amountC_given = nC_Sg + nC_Xg + nC_Pg \n",
    "    \n",
    "    \n",
    "    \n",
    "    #mass balance of Carbon found (Substrate,Biomass,Product,CO2)\n",
    "    nC_Sf = (float(a.dataset[\"off\"][\"Glucose [g/L]\"].loc[[t]])*V)/Mw_gluc * 6\n",
    "    nC_Xf = (float(a.dataset[\"off\"][\"CDW_calc\"].loc[[t]])*V)/ Mw_bm\n",
    "    nC_Pf = (float(a.dataset[\"off\"][\"RF [mg/L]\"].loc[[t]])*V /1000)/ Mw_RF * 17\n",
    "    nC_CO2 = float(df[\"CO2 mol_cum\"].values[t_grid.index(t)])/Mw_CO2\n",
    "\n",
    "    amountC_found = nC_Sf + nC_Xf + nC_Pf + nC_CO2\n",
    "    \n",
    "    RR = (amountC_found / amountC_given) * 100\n",
    "    \n",
    "    Carb_RR[\"given\"].append(amountC_given)\n",
    "    Carb_RR[\"found\"].append(amountC_found)\n",
    "   \n",
    "    Carb_RR[\"RR\"].append(RR)\n",
    " \n",
    "df2 = pd.DataFrame.from_dict(Carb_RR)\n",
    " \n",
    "\n",
    "df[\"RR\"] = df2[\"RR\"].values \n",
    "\n",
    "\n",
    "    \n",
    "    \n",
    "#g = a.dataset[\"off\"][\"Glucose [g/L]\"].loc[[0.0694444]]\n",
    "#f= a.dataset[\"off\"][\"Glucose [g/L]\"]\n",
    "#print(t_grid)\n",
    "#print(Carb_RR)\n",
    "\n",
    "#print(f)"
   ]
  },
  {
   "cell_type": "code",
   "execution_count": 82,
   "metadata": {},
   "outputs": [
    {
     "name": "stderr",
     "output_type": "stream",
     "text": [
      "C:\\Users\\walkyre\\AppData\\Local\\Temp/ipykernel_10564/1888174591.py:22: IntegrationWarning:\n",
      "\n",
      "The occurrence of roundoff error is detected, which prevents \n",
      "  the requested tolerance from being achieved.  The error may be \n",
      "  underestimated.\n",
      "\n",
      "C:\\Users\\walkyre\\AppData\\Local\\Temp/ipykernel_10564/1888174591.py:22: IntegrationWarning:\n",
      "\n",
      "The maximum number of subdivisions (200) has been achieved.\n",
      "  If increasing the limit yields no improvement it is advised to analyze \n",
      "  the integrand in order to determine the difficulties.  If the position of a \n",
      "  local difficulty can be determined (singularity, discontinuity) one will \n",
      "  probably gain from splitting up the interval and calling the integrator \n",
      "  on the subranges.  Perhaps a special-purpose integrator should be used.\n",
      "\n",
      "C:\\Users\\walkyre\\AppData\\Local\\Temp/ipykernel_10564/1888174591.py:50: IntegrationWarning:\n",
      "\n",
      "The maximum number of subdivisions (200) has been achieved.\n",
      "  If increasing the limit yields no improvement it is advised to analyze \n",
      "  the integrand in order to determine the difficulties.  If the position of a \n",
      "  local difficulty can be determined (singularity, discontinuity) one will \n",
      "  probably gain from splitting up the interval and calling the integrator \n",
      "  on the subranges.  Perhaps a special-purpose integrator should be used.\n",
      "\n"
     ]
    }
   ],
   "source": [
    "t_grid = list(a.dataset[\"off\"].index.values)\n",
    "\n",
    "\n",
    "V = 0.5\n",
    "Mw_bm = 24.445          #g/mol molecular weight of biomass assuming composition of C=1,H=1.594,N=0.293,O=0.387,P=0.012,S=0.005\n",
    "Mw_gluc = 180.156       #g/mol molecular weight of glucose C=6,H=12,O=6\n",
    "Mw_RF = 376.36          #g/mol molecular weight of Riboflavin C=17,H=20,N=4,O=6\n",
    "dV_gas_dt = c[\"gas_flow\"]\n",
    "R = 0.08314 #bar*l/mol*K\n",
    "T = c[\"T\"] + 273.15     #Kelvin  \n",
    "pressure = c[\"pressure\"] #bar\n",
    "Mw_CO2 = 44.01\n",
    "\n",
    "F_C_in = c[\"feedrate_glc\"](t_grid)\n",
    "df = pd.DataFrame(data=F_C_in,index=t_grid, columns=[\"feedrate pure glucose g/h\"])\n",
    "\n",
    "# calculate cumulated amount of Glucose from Feed\n",
    "F_C_in_cum = []\n",
    "\n",
    "for t in t_grid:\n",
    "    func = c[\"feedrate_glc\"]\n",
    "    cummulation = scipy.integrate.quad(func,0,t,limit=200)\n",
    "    \n",
    "    F_C_in_cum.append(cummulation)\n",
    "\n",
    "df[\"Glc g_cum\"] = [x[0] for x in F_C_in_cum]\n",
    "\n",
    "\n",
    "#creating column with calculcated Volume values for CO2 [L] from exhaust gas measurment\n",
    "a.dataset[\"CO2\"][\"V_CO2 L\"] = (a.dataset[\"CO2\"][\"CO2\"]- 0.04)/100 * 30   #30 L/h is F_exhaust or Outlet flow (assuming = inlet flow)\n",
    "\n",
    "CO2_func = interp1d(x = a.dataset[\"CO2\"].index, \n",
    "                    y = a.dataset[\"CO2\"][\"CO2\"], fill_value = (a.dataset[\"CO2\"][\"CO2\"].iloc[0], a.dataset[\"CO2\"][\"CO2\"].iloc[-1]) , \n",
    "                    bounds_error= False)\n",
    "\n",
    "V_CO2_func = interp1d(x = a.dataset[\"CO2\"].index, \n",
    "                    y = a.dataset[\"CO2\"][\"V_CO2 L\"], fill_value = (a.dataset[\"CO2\"][\"V_CO2 L\"].iloc[0], a.dataset[\"CO2\"][\"V_CO2 L\"].iloc[-1]) ,\n",
    "                    bounds_error= False)\n",
    "\n",
    "df[\"CO2 %\"] = CO2_func(t_grid)\n",
    "df[\"V_CO2 L\"] = V_CO2_func(t_grid)\n",
    "\n",
    "\n",
    "\n",
    "#calculate cumulated amount of CO2 in exhaust gas \n",
    "CO2_out_cum = []\n",
    "\n",
    "for t in t_grid:\n",
    "    func = V_CO2_func     \n",
    "    cummulation = scipy.integrate.quad(func,0,t,limit=200)\n",
    "    \n",
    "    CO2_out_cum.append(cummulation)\n",
    "    \n",
    "df[\"CO2 L_cum\"] = [x[0] for x in CO2_out_cum]\n",
    "\n",
    "df[\"CO2 mol_cum\"] = (df[\"CO2 L_cum\"] * pressure) / (R * T)\n",
    "\n",
    "\n",
    "#calculation of recovery rate\n",
    "\n",
    "Carb_RR= {}\n",
    "Carb_RR[\"t\"]= t_grid\n",
    "Carb_RR[\"given\"]=[]\n",
    "Carb_RR[\"found\"]=[]\n",
    "Carb_RR[\"RR\"]=[]\n",
    "\n",
    "for t in t_grid:\n",
    "    \n",
    "    #mass balance of Carbon given (Substrate,Biomass,Product)\n",
    "    nC_Sg = y0[1]/Mw_gluc *6 + df[\"Glc g_cum\"].values[t_grid.index(t)]/Mw_gluc * 6   #initial Substrate + Substrate from Feed\n",
    "    nC_Xg = y0[0]/Mw_bm\n",
    "    nC_Pg = y0[2]/Mw_RF *17\n",
    "    \n",
    "    amountC_given = nC_Sg + nC_Xg + nC_Pg \n",
    "    \n",
    "    \n",
    "    \n",
    "    #mass balance of Carbon found (Substrate,Biomass,Product,CO2)\n",
    "    nC_Sf = (float(a.dataset[\"off\"][\"Glucose [g/L]\"].loc[[t]])*V)/Mw_gluc * 6\n",
    "    nC_Xf = (float(a.dataset[\"off\"][\"CDW_calc\"].loc[[t]])*V)/ Mw_bm\n",
    "    nC_Pf = (float(a.dataset[\"off\"][\"RF [mg/L]\"].loc[[t]])*V /1000)/ Mw_RF * 17\n",
    "    nC_CO2 = float(df[\"CO2 mol_cum\"].values[t_grid.index(t)])/Mw_CO2\n",
    "\n",
    "    amountC_found = nC_Sf + nC_Xf + nC_Pf + nC_CO2\n",
    "    \n",
    "    RR = (amountC_found / amountC_given) * 100\n",
    "    \n",
    "    Carb_RR[\"given\"].append(amountC_given)\n",
    "    Carb_RR[\"found\"].append(amountC_found)\n",
    "   \n",
    "    Carb_RR[\"RR\"].append(RR)\n",
    " \n",
    "df2 = pd.DataFrame.from_dict(Carb_RR)\n",
    " \n",
    "\n",
    "df[\"RR\"] = df2[\"RR\"].values \n",
    "\n"
   ]
  },
  {
   "cell_type": "code",
   "execution_count": 58,
   "metadata": {},
   "outputs": [
    {
     "data": {
      "application/vnd.plotly.v1+json": {
       "config": {
        "plotlyServerURL": "https://plot.ly"
       },
       "data": [
        {
         "name": "glc cum",
         "type": "scatter",
         "x": [
          0.06944444444444445,
          16.069444444444443,
          17.752777777777776,
          18.586111111111112,
          19.836111111111112,
          20.802777777777777,
          21.70277777777778,
          22.852777777777778,
          39.452777777777776,
          40.71944444444444,
          41.952777777777776,
          43.40277777777778,
          44.736111111111114,
          46.05277777777778,
          47.33611111111111,
          63.71944444444444
         ],
         "xaxis": "x",
         "y": [
          0,
          0,
          0,
          3.0240354518297132,
          7.351651247938763,
          10.964867812698087,
          14.536210023730053,
          19.39383608801787,
          119.19788473848374,
          127.59716631077777,
          135.7752339501158,
          145.48369289962415,
          154.22978250015532,
          162.96035696670978,
          170.5678170967177,
          245.0334469582108
         ],
         "yaxis": "y2"
        },
        {
         "type": "scatter",
         "x": [
          0.06944444444444445,
          16.069444444444443,
          17.752777777777776,
          18.586111111111112,
          19.836111111111112,
          20.802777777777777,
          21.70277777777778,
          22.852777777777778,
          39.452777777777776,
          40.71944444444444,
          41.952777777777776,
          43.40277777777778,
          44.736111111111114,
          46.05277777777778,
          47.33611111111111,
          63.71944444444444
         ],
         "xaxis": "x",
         "y": [
          0,
          0,
          0,
          3.297837257385254,
          3.6119167804718018,
          3.856201410293579,
          4.08303689956665,
          4.362218379974365,
          6.6305718421936035,
          6.6305718421936035,
          6.6305718421936035,
          6.6305718421936035,
          6.6305718421936035,
          6.6305718421936035,
          6.6305718421936035,
          3.1407973766326904
         ],
         "yaxis": "y"
        }
       ],
       "layout": {
        "template": {
         "data": {
          "bar": [
           {
            "error_x": {
             "color": "#2a3f5f"
            },
            "error_y": {
             "color": "#2a3f5f"
            },
            "marker": {
             "line": {
              "color": "#E5ECF6",
              "width": 0.5
             },
             "pattern": {
              "fillmode": "overlay",
              "size": 10,
              "solidity": 0.2
             }
            },
            "type": "bar"
           }
          ],
          "barpolar": [
           {
            "marker": {
             "line": {
              "color": "#E5ECF6",
              "width": 0.5
             },
             "pattern": {
              "fillmode": "overlay",
              "size": 10,
              "solidity": 0.2
             }
            },
            "type": "barpolar"
           }
          ],
          "carpet": [
           {
            "aaxis": {
             "endlinecolor": "#2a3f5f",
             "gridcolor": "white",
             "linecolor": "white",
             "minorgridcolor": "white",
             "startlinecolor": "#2a3f5f"
            },
            "baxis": {
             "endlinecolor": "#2a3f5f",
             "gridcolor": "white",
             "linecolor": "white",
             "minorgridcolor": "white",
             "startlinecolor": "#2a3f5f"
            },
            "type": "carpet"
           }
          ],
          "choropleth": [
           {
            "colorbar": {
             "outlinewidth": 0,
             "ticks": ""
            },
            "type": "choropleth"
           }
          ],
          "contour": [
           {
            "colorbar": {
             "outlinewidth": 0,
             "ticks": ""
            },
            "colorscale": [
             [
              0,
              "#0d0887"
             ],
             [
              0.1111111111111111,
              "#46039f"
             ],
             [
              0.2222222222222222,
              "#7201a8"
             ],
             [
              0.3333333333333333,
              "#9c179e"
             ],
             [
              0.4444444444444444,
              "#bd3786"
             ],
             [
              0.5555555555555556,
              "#d8576b"
             ],
             [
              0.6666666666666666,
              "#ed7953"
             ],
             [
              0.7777777777777778,
              "#fb9f3a"
             ],
             [
              0.8888888888888888,
              "#fdca26"
             ],
             [
              1,
              "#f0f921"
             ]
            ],
            "type": "contour"
           }
          ],
          "contourcarpet": [
           {
            "colorbar": {
             "outlinewidth": 0,
             "ticks": ""
            },
            "type": "contourcarpet"
           }
          ],
          "heatmap": [
           {
            "colorbar": {
             "outlinewidth": 0,
             "ticks": ""
            },
            "colorscale": [
             [
              0,
              "#0d0887"
             ],
             [
              0.1111111111111111,
              "#46039f"
             ],
             [
              0.2222222222222222,
              "#7201a8"
             ],
             [
              0.3333333333333333,
              "#9c179e"
             ],
             [
              0.4444444444444444,
              "#bd3786"
             ],
             [
              0.5555555555555556,
              "#d8576b"
             ],
             [
              0.6666666666666666,
              "#ed7953"
             ],
             [
              0.7777777777777778,
              "#fb9f3a"
             ],
             [
              0.8888888888888888,
              "#fdca26"
             ],
             [
              1,
              "#f0f921"
             ]
            ],
            "type": "heatmap"
           }
          ],
          "heatmapgl": [
           {
            "colorbar": {
             "outlinewidth": 0,
             "ticks": ""
            },
            "colorscale": [
             [
              0,
              "#0d0887"
             ],
             [
              0.1111111111111111,
              "#46039f"
             ],
             [
              0.2222222222222222,
              "#7201a8"
             ],
             [
              0.3333333333333333,
              "#9c179e"
             ],
             [
              0.4444444444444444,
              "#bd3786"
             ],
             [
              0.5555555555555556,
              "#d8576b"
             ],
             [
              0.6666666666666666,
              "#ed7953"
             ],
             [
              0.7777777777777778,
              "#fb9f3a"
             ],
             [
              0.8888888888888888,
              "#fdca26"
             ],
             [
              1,
              "#f0f921"
             ]
            ],
            "type": "heatmapgl"
           }
          ],
          "histogram": [
           {
            "marker": {
             "pattern": {
              "fillmode": "overlay",
              "size": 10,
              "solidity": 0.2
             }
            },
            "type": "histogram"
           }
          ],
          "histogram2d": [
           {
            "colorbar": {
             "outlinewidth": 0,
             "ticks": ""
            },
            "colorscale": [
             [
              0,
              "#0d0887"
             ],
             [
              0.1111111111111111,
              "#46039f"
             ],
             [
              0.2222222222222222,
              "#7201a8"
             ],
             [
              0.3333333333333333,
              "#9c179e"
             ],
             [
              0.4444444444444444,
              "#bd3786"
             ],
             [
              0.5555555555555556,
              "#d8576b"
             ],
             [
              0.6666666666666666,
              "#ed7953"
             ],
             [
              0.7777777777777778,
              "#fb9f3a"
             ],
             [
              0.8888888888888888,
              "#fdca26"
             ],
             [
              1,
              "#f0f921"
             ]
            ],
            "type": "histogram2d"
           }
          ],
          "histogram2dcontour": [
           {
            "colorbar": {
             "outlinewidth": 0,
             "ticks": ""
            },
            "colorscale": [
             [
              0,
              "#0d0887"
             ],
             [
              0.1111111111111111,
              "#46039f"
             ],
             [
              0.2222222222222222,
              "#7201a8"
             ],
             [
              0.3333333333333333,
              "#9c179e"
             ],
             [
              0.4444444444444444,
              "#bd3786"
             ],
             [
              0.5555555555555556,
              "#d8576b"
             ],
             [
              0.6666666666666666,
              "#ed7953"
             ],
             [
              0.7777777777777778,
              "#fb9f3a"
             ],
             [
              0.8888888888888888,
              "#fdca26"
             ],
             [
              1,
              "#f0f921"
             ]
            ],
            "type": "histogram2dcontour"
           }
          ],
          "mesh3d": [
           {
            "colorbar": {
             "outlinewidth": 0,
             "ticks": ""
            },
            "type": "mesh3d"
           }
          ],
          "parcoords": [
           {
            "line": {
             "colorbar": {
              "outlinewidth": 0,
              "ticks": ""
             }
            },
            "type": "parcoords"
           }
          ],
          "pie": [
           {
            "automargin": true,
            "type": "pie"
           }
          ],
          "scatter": [
           {
            "marker": {
             "colorbar": {
              "outlinewidth": 0,
              "ticks": ""
             }
            },
            "type": "scatter"
           }
          ],
          "scatter3d": [
           {
            "line": {
             "colorbar": {
              "outlinewidth": 0,
              "ticks": ""
             }
            },
            "marker": {
             "colorbar": {
              "outlinewidth": 0,
              "ticks": ""
             }
            },
            "type": "scatter3d"
           }
          ],
          "scattercarpet": [
           {
            "marker": {
             "colorbar": {
              "outlinewidth": 0,
              "ticks": ""
             }
            },
            "type": "scattercarpet"
           }
          ],
          "scattergeo": [
           {
            "marker": {
             "colorbar": {
              "outlinewidth": 0,
              "ticks": ""
             }
            },
            "type": "scattergeo"
           }
          ],
          "scattergl": [
           {
            "marker": {
             "colorbar": {
              "outlinewidth": 0,
              "ticks": ""
             }
            },
            "type": "scattergl"
           }
          ],
          "scattermapbox": [
           {
            "marker": {
             "colorbar": {
              "outlinewidth": 0,
              "ticks": ""
             }
            },
            "type": "scattermapbox"
           }
          ],
          "scatterpolar": [
           {
            "marker": {
             "colorbar": {
              "outlinewidth": 0,
              "ticks": ""
             }
            },
            "type": "scatterpolar"
           }
          ],
          "scatterpolargl": [
           {
            "marker": {
             "colorbar": {
              "outlinewidth": 0,
              "ticks": ""
             }
            },
            "type": "scatterpolargl"
           }
          ],
          "scatterternary": [
           {
            "marker": {
             "colorbar": {
              "outlinewidth": 0,
              "ticks": ""
             }
            },
            "type": "scatterternary"
           }
          ],
          "surface": [
           {
            "colorbar": {
             "outlinewidth": 0,
             "ticks": ""
            },
            "colorscale": [
             [
              0,
              "#0d0887"
             ],
             [
              0.1111111111111111,
              "#46039f"
             ],
             [
              0.2222222222222222,
              "#7201a8"
             ],
             [
              0.3333333333333333,
              "#9c179e"
             ],
             [
              0.4444444444444444,
              "#bd3786"
             ],
             [
              0.5555555555555556,
              "#d8576b"
             ],
             [
              0.6666666666666666,
              "#ed7953"
             ],
             [
              0.7777777777777778,
              "#fb9f3a"
             ],
             [
              0.8888888888888888,
              "#fdca26"
             ],
             [
              1,
              "#f0f921"
             ]
            ],
            "type": "surface"
           }
          ],
          "table": [
           {
            "cells": {
             "fill": {
              "color": "#EBF0F8"
             },
             "line": {
              "color": "white"
             }
            },
            "header": {
             "fill": {
              "color": "#C8D4E3"
             },
             "line": {
              "color": "white"
             }
            },
            "type": "table"
           }
          ]
         },
         "layout": {
          "annotationdefaults": {
           "arrowcolor": "#2a3f5f",
           "arrowhead": 0,
           "arrowwidth": 1
          },
          "autotypenumbers": "strict",
          "coloraxis": {
           "colorbar": {
            "outlinewidth": 0,
            "ticks": ""
           }
          },
          "colorscale": {
           "diverging": [
            [
             0,
             "#8e0152"
            ],
            [
             0.1,
             "#c51b7d"
            ],
            [
             0.2,
             "#de77ae"
            ],
            [
             0.3,
             "#f1b6da"
            ],
            [
             0.4,
             "#fde0ef"
            ],
            [
             0.5,
             "#f7f7f7"
            ],
            [
             0.6,
             "#e6f5d0"
            ],
            [
             0.7,
             "#b8e186"
            ],
            [
             0.8,
             "#7fbc41"
            ],
            [
             0.9,
             "#4d9221"
            ],
            [
             1,
             "#276419"
            ]
           ],
           "sequential": [
            [
             0,
             "#0d0887"
            ],
            [
             0.1111111111111111,
             "#46039f"
            ],
            [
             0.2222222222222222,
             "#7201a8"
            ],
            [
             0.3333333333333333,
             "#9c179e"
            ],
            [
             0.4444444444444444,
             "#bd3786"
            ],
            [
             0.5555555555555556,
             "#d8576b"
            ],
            [
             0.6666666666666666,
             "#ed7953"
            ],
            [
             0.7777777777777778,
             "#fb9f3a"
            ],
            [
             0.8888888888888888,
             "#fdca26"
            ],
            [
             1,
             "#f0f921"
            ]
           ],
           "sequentialminus": [
            [
             0,
             "#0d0887"
            ],
            [
             0.1111111111111111,
             "#46039f"
            ],
            [
             0.2222222222222222,
             "#7201a8"
            ],
            [
             0.3333333333333333,
             "#9c179e"
            ],
            [
             0.4444444444444444,
             "#bd3786"
            ],
            [
             0.5555555555555556,
             "#d8576b"
            ],
            [
             0.6666666666666666,
             "#ed7953"
            ],
            [
             0.7777777777777778,
             "#fb9f3a"
            ],
            [
             0.8888888888888888,
             "#fdca26"
            ],
            [
             1,
             "#f0f921"
            ]
           ]
          },
          "colorway": [
           "#636efa",
           "#EF553B",
           "#00cc96",
           "#ab63fa",
           "#FFA15A",
           "#19d3f3",
           "#FF6692",
           "#B6E880",
           "#FF97FF",
           "#FECB52"
          ],
          "font": {
           "color": "#2a3f5f"
          },
          "geo": {
           "bgcolor": "white",
           "lakecolor": "white",
           "landcolor": "#E5ECF6",
           "showlakes": true,
           "showland": true,
           "subunitcolor": "white"
          },
          "hoverlabel": {
           "align": "left"
          },
          "hovermode": "closest",
          "mapbox": {
           "style": "light"
          },
          "paper_bgcolor": "white",
          "plot_bgcolor": "#E5ECF6",
          "polar": {
           "angularaxis": {
            "gridcolor": "white",
            "linecolor": "white",
            "ticks": ""
           },
           "bgcolor": "#E5ECF6",
           "radialaxis": {
            "gridcolor": "white",
            "linecolor": "white",
            "ticks": ""
           }
          },
          "scene": {
           "xaxis": {
            "backgroundcolor": "#E5ECF6",
            "gridcolor": "white",
            "gridwidth": 2,
            "linecolor": "white",
            "showbackground": true,
            "ticks": "",
            "zerolinecolor": "white"
           },
           "yaxis": {
            "backgroundcolor": "#E5ECF6",
            "gridcolor": "white",
            "gridwidth": 2,
            "linecolor": "white",
            "showbackground": true,
            "ticks": "",
            "zerolinecolor": "white"
           },
           "zaxis": {
            "backgroundcolor": "#E5ECF6",
            "gridcolor": "white",
            "gridwidth": 2,
            "linecolor": "white",
            "showbackground": true,
            "ticks": "",
            "zerolinecolor": "white"
           }
          },
          "shapedefaults": {
           "line": {
            "color": "#2a3f5f"
           }
          },
          "ternary": {
           "aaxis": {
            "gridcolor": "white",
            "linecolor": "white",
            "ticks": ""
           },
           "baxis": {
            "gridcolor": "white",
            "linecolor": "white",
            "ticks": ""
           },
           "bgcolor": "#E5ECF6",
           "caxis": {
            "gridcolor": "white",
            "linecolor": "white",
            "ticks": ""
           }
          },
          "title": {
           "x": 0.05
          },
          "xaxis": {
           "automargin": true,
           "gridcolor": "white",
           "linecolor": "white",
           "ticks": "",
           "title": {
            "standoff": 15
           },
           "zerolinecolor": "white",
           "zerolinewidth": 2
          },
          "yaxis": {
           "automargin": true,
           "gridcolor": "white",
           "linecolor": "white",
           "ticks": "",
           "title": {
            "standoff": 15
           },
           "zerolinecolor": "white",
           "zerolinewidth": 2
          }
         }
        },
        "xaxis": {
         "anchor": "y",
         "domain": [
          0,
          0.94
         ]
        },
        "yaxis": {
         "anchor": "x",
         "domain": [
          0,
          1
         ]
        },
        "yaxis2": {
         "anchor": "x",
         "overlaying": "y",
         "side": "right"
        }
       }
      }
     },
     "metadata": {},
     "output_type": "display_data"
    }
   ],
   "source": [
    "import plotly.graph_objects as go\n",
    "from plotly.subplots import make_subplots\n",
    "\n",
    "x = df.index\n",
    "\n",
    "\n",
    "fig = make_subplots(specs=[[{\"secondary_y\": True}]])\n",
    "fig.add_trace(go.Scatter( x= x, y=df[\"Glc g_cum\"],name=\"glc cum\"), secondary_y=True)\n",
    "fig.add_trace(go.Scatter( x= x, y=df[\"feedrate pure glucose g/h\"]),secondary_y=False)\n",
    "fig.show()"
   ]
  },
  {
   "cell_type": "code",
   "execution_count": null,
   "metadata": {},
   "outputs": [],
   "source": [
    "def calc_CRR(self,experiment, V, y0):\n",
    "\n",
    "    Mw_bm = 24.445          #g/mol molecular weight of biomass assuming composition of C=1,H=1.594,N=0.293,O=0.387,P=0.012,S=0.005\n",
    "    Mw_gluc = 180.156       #g/mol molecular weight of glucose C=6,H=12,O=6\n",
    "    Mw_RF = 376.36          #g/mol molecular weight of Riboflavin C=17,H=20,N=4,O=6\n",
    "    F_C_in = c[\"feedrate_glc\"](t_grid)\n",
    "        \n",
    "    amountC_given = (y0[0]/Mw_bm)+(y0[1]/Mw_gluc *6)+(y0[2]/Mw_RF *17)\n",
    "\n",
    "    t_grid = experiment.dataset[\"off\"].index.values\n",
    "    Carb_RR=[]\n",
    "    for t in t_grid:\n",
    "        \n",
    "        nC_S = float(a.dataset[\"off\"][\"Glucose [g/L]\"].loc[[t]])*V\n",
    "        nC_X = float(a.dataset[\"off\"][\"CDW_calc\"].loc[[t]])*V\n",
    "        nC_P = float(a.dataset[\"off\"][\"RF [mg/L]\"].loc[[t]])* V /1000\n",
    "        nC_CO2_cum = 1\n",
    "        \n",
    "        amountC_found = nC_S + nC_X + nC_P+ nC_CO2_cum\n",
    "        Carb_RR = amountC_found / amountC_given\n",
    "        \n",
    "        return Carb_RR"
   ]
  }
 ],
 "metadata": {
  "interpreter": {
   "hash": "3776b54c573491d09a8e84dce8ca39a954a775ec43e38eb0a634b33ef2d6c0cb"
  },
  "kernelspec": {
   "display_name": "Python 3.8.12 ('MasterThesis_VB')",
   "language": "python",
   "name": "python3"
  },
  "language_info": {
   "codemirror_mode": {
    "name": "ipython",
    "version": 3
   },
   "file_extension": ".py",
   "mimetype": "text/x-python",
   "name": "python",
   "nbconvert_exporter": "python",
   "pygments_lexer": "ipython3",
   "version": "3.8.12"
  },
  "orig_nbformat": 4
 },
 "nbformat": 4,
 "nbformat_minor": 2
}
