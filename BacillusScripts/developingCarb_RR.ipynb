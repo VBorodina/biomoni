{
 "cells": [
  {
   "cell_type": "code",
   "execution_count": 2,
   "metadata": {},
   "outputs": [],
   "source": [
    "import sys\n",
    "sys.path.append(\"V:/biomoni/\") \n",
    "from biomoni import Experiment\n",
    "from BacillusScripts.BacillusVariableFeedrate_copy import Bacillus_vf\n",
    "from biomoni import Model\n",
    "import pandas as pd\n",
    "import numpy as np"
   ]
  },
  {
   "cell_type": "code",
   "execution_count": 8,
   "metadata": {},
   "outputs": [],
   "source": [
    "a = Experiment(\"V:/biomoni/BacillusData/Stamm185\", \"F5\", endpoint=\"F_end\")\n",
    "\n",
    "b= Bacillus_vf()\n"
   ]
  },
  {
   "cell_type": "code",
   "execution_count": 17,
   "metadata": {},
   "outputs": [
    {
     "data": {
      "text/plain": [
       "34.162697"
      ]
     },
     "execution_count": 17,
     "metadata": {},
     "output_type": "execute_result"
    }
   ],
   "source": [
    "a.dataset[\"off\"][\"Glucose [g/L]\"].iloc[5]"
   ]
  },
  {
   "cell_type": "code",
   "execution_count": null,
   "metadata": {},
   "outputs": [],
   "source": [
    "def calc_CRR(self,experiment,c, y0):\n",
    "\n",
    "    Mw_bm = 24.445          #g/mol molecular weight of biomass assuming composition of C=1,H=1.594,N=0.293,O=0.387,P=0.012,S=0.005\n",
    "    Mw_gluc = 180.156       #g/mol molecular weight of glucose C=6,H=12,O=6\n",
    "    Mw_RF = 376.36          #g/mol molecular weight of Riboflavin C=17,H=20,N=4,O=6\n",
    "    F_C_in = c[\"feedrate_glc\"](t_grid)\n",
    "        \n",
    "    amountC_given = (y0[0]/Mw_bm)+(y0[1]/Mw_gluc *6)+(y0[2]/Mw_RF *17)\n",
    "\n",
    "    t_grid = experiment.dataset[\"off\"].index.values\n",
    "\n",
    "    for t in t_grid:\n",
    "        Carb_RR=[]\n",
    "        nC_S = experiment.dataset[\"off\"].loc[t,\"Glucose [g/L]\"]\n",
    "        nC_X = experiment.dataset[\"off\"].loc[t,\"Glucose [g/L]\"]\n",
    "        amountC_found = nC_S + nC_X + nC_CO2_cum\n",
    "        Carb_RR = amountC_found / amountC_given\n",
    "        \n",
    "        return Carb_RR"
   ]
  }
 ],
 "metadata": {
  "interpreter": {
   "hash": "3776b54c573491d09a8e84dce8ca39a954a775ec43e38eb0a634b33ef2d6c0cb"
  },
  "kernelspec": {
   "display_name": "Python 3.8.12 ('MasterThesis_VB')",
   "language": "python",
   "name": "python3"
  },
  "language_info": {
   "codemirror_mode": {
    "name": "ipython",
    "version": 3
   },
   "file_extension": ".py",
   "mimetype": "text/x-python",
   "name": "python",
   "nbconvert_exporter": "python",
   "pygments_lexer": "ipython3",
   "version": "3.8.12"
  },
  "orig_nbformat": 4
 },
 "nbformat": 4,
 "nbformat_minor": 2
}
