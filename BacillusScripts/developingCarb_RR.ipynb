{
 "cells": [
  {
   "cell_type": "code",
   "execution_count": 1,
   "metadata": {},
   "outputs": [],
   "source": [
    "import sys\n",
    "sys.path.append(\"V:/biomoni/\") \n",
    "from biomoni import Experiment\n",
    "from BacillusScripts.BacillusVariableFeedrate_copy import Bacillus_vf\n",
    "from biomoni import Model\n",
    "import scipy\n",
    "from scipy.interpolate import interp1d\n",
    "import pandas as pd\n",
    "import numpy as np"
   ]
  },
  {
   "cell_type": "code",
   "execution_count": 3,
   "metadata": {},
   "outputs": [
    {
     "name": "stdout",
     "output_type": "stream",
     "text": [
      "{'off': {'Glucose [g/L]': 0.03191800750123827, 'CDW_calc': 0.8499599165745977, 'RF [mg/L]': 0.00864467403342319}, 'on': {('BASET_2', 'Value'): 8.144595812061279e-05, ('pO2_2', 'Value'): 6.188072860845093e-05}, 'CO2': {'CO2': 0.008650996108133127}}\n",
      "mX0 changed to 0.0133800816825\n",
      "difference in Glucose [g/L] is processed.\n",
      "difference in CDW_calc is processed.\n",
      "difference in RF [mg/L] is processed.\n",
      "mX0 changed to 0.0133800816825\n",
      "mX0 changed to 0.0133800816825\n",
      "mX0 changed to 0.0133800816825\n",
      "difference in Glucose [g/L] is processed.\n",
      "difference in CDW_calc is processed.\n",
      "difference in RF [mg/L] is processed.\n",
      "mX0 changed to 0.0133800816825\n",
      "mX0 changed to 0.0133800816825\n",
      "mX0 changed to 0.0133800816825\n",
      "difference in Glucose [g/L] is processed.\n",
      "difference in CDW_calc is processed.\n",
      "difference in RF [mg/L] is processed.\n",
      "mX0 changed to 0.0133800816825\n",
      "mX0 changed to 0.0133800816825\n",
      "mX0 changed to 0.0133800816825\n",
      "difference in Glucose [g/L] is processed.\n",
      "difference in CDW_calc is processed.\n",
      "difference in RF [mg/L] is processed.\n",
      "mX0 changed to 0.0133800816825\n",
      "mX0 changed to 0.0133800816825\n",
      "mX0 changed to 0.0133800816825\n",
      "difference in Glucose [g/L] is processed.\n",
      "difference in CDW_calc is processed.\n",
      "difference in RF [mg/L] is processed.\n",
      "mX0 changed to 0.0133800816825\n",
      "mX0 changed to 0.0133800816825\n",
      "mX0 changed to 0.0133800816825\n",
      "difference in Glucose [g/L] is processed.\n",
      "difference in CDW_calc is processed.\n",
      "difference in RF [mg/L] is processed.\n",
      "mX0 changed to 0.0133800816825\n",
      "mX0 changed to 0.0133800816825\n",
      "mX0 changed to 0.0133800816825\n",
      "difference in Glucose [g/L] is processed.\n",
      "difference in CDW_calc is processed.\n",
      "difference in RF [mg/L] is processed.\n",
      "mX0 changed to 0.0133800816825\n",
      "mX0 changed to 0.0133800816825\n",
      "mX0 changed to 0.0133800816825\n",
      "difference in Glucose [g/L] is processed.\n",
      "difference in CDW_calc is processed.\n",
      "difference in RF [mg/L] is processed.\n",
      "mX0 changed to 0.0133800816825\n",
      "mX0 changed to 0.0133800816825\n",
      "mX0 changed to 0.0133800816825\n",
      "difference in Glucose [g/L] is processed.\n",
      "difference in CDW_calc is processed.\n",
      "difference in RF [mg/L] is processed.\n",
      "mX0 changed to 0.0133800816825\n",
      "mX0 changed to 0.0133800816825\n",
      "mX0 changed to 0.0133800816825\n",
      "difference in Glucose [g/L] is processed.\n",
      "difference in CDW_calc is processed.\n",
      "difference in RF [mg/L] is processed.\n",
      "mX0 changed to 0.0133800816825\n",
      "mX0 changed to 0.0133800816825\n",
      "mX0 changed to 0.0133800816825\n",
      "difference in Glucose [g/L] is processed.\n",
      "difference in CDW_calc is processed.\n",
      "difference in RF [mg/L] is processed.\n",
      "mX0 changed to 0.0133800816825\n",
      "mX0 changed to 0.0133800816825\n",
      "mX0 changed to 0.0133800816825\n",
      "difference in Glucose [g/L] is processed.\n",
      "difference in CDW_calc is processed.\n",
      "difference in RF [mg/L] is processed.\n",
      "mX0 changed to 0.0133800816825\n",
      "mX0 changed to 0.0133800816825\n",
      "mX0 changed to 0.0133800816825\n",
      "difference in Glucose [g/L] is processed.\n",
      "difference in CDW_calc is processed.\n",
      "difference in RF [mg/L] is processed.\n",
      "mX0 changed to 0.0133800816825\n",
      "mX0 changed to 0.0133800816825\n",
      "mX0 changed to 0.0133800816825\n",
      "difference in Glucose [g/L] is processed.\n",
      "difference in CDW_calc is processed.\n",
      "difference in RF [mg/L] is processed.\n",
      "mX0 changed to 0.0133800816825\n",
      "mX0 changed to 0.0133800816825\n",
      "mX0 changed to 0.0133800816825\n",
      "difference in Glucose [g/L] is processed.\n",
      "difference in CDW_calc is processed.\n",
      "difference in RF [mg/L] is processed.\n",
      "mX0 changed to 0.0133800816825\n",
      "mX0 changed to 0.0133800816825\n",
      "mX0 changed to 0.0133800816825\n",
      "difference in Glucose [g/L] is processed.\n",
      "difference in CDW_calc is processed.\n",
      "difference in RF [mg/L] is processed.\n",
      "mX0 changed to 0.0133800816825\n",
      "mX0 changed to 0.0133800816825\n",
      "mX0 changed to 0.0133800816825\n",
      "mX0 changed to 0.0133800816825\n",
      "mX0 changed to 0.0133800816825\n",
      "[[Fit Statistics]]\n",
      "    # fitting method   = leastsq\n",
      "    # function evals   = 13\n",
      "    # data points      = 24\n",
      "    # variables        = 3\n",
      "    chi-square         = 0.22721192\n",
      "    reduced chi-square = 0.01081962\n",
      "    Akaike info crit   = -105.838223\n",
      "    Bayesian info crit = -102.304061\n",
      "[[Variables]]\n",
      "    Km:      0.1 (fixed)\n",
      "    Yxs:     0.09772189 +/- 0.00898651 (9.20%) (init = 0.1)\n",
      "    Yxp:     0.00932841 +/- 4.1737e-04 (4.47%) (init = 0.01)\n",
      "    HX:      1.77 (fixed)\n",
      "    OX:      0.54 (fixed)\n",
      "    NX:      0.16 (fixed)\n",
      "    mu_max:  0.19597075 +/- 0.00153215 (0.78%) (init = 0.2)\n",
      "[[Correlations]] (unreported correlations are < 0.100)\n",
      "    C(Yxp, mu_max) =  0.735\n",
      "    C(Yxs, mu_max) =  0.352\n",
      "    C(Yxs, Yxp)    =  0.262\n",
      "Parameters([('Km', <Parameter 'Km', value=0.1 (fixed), bounds=[0.01:0.5]>), ('Yxs', <Parameter 'Yxs', value=0.09772189186945178 +/- 0.00899, bounds=[0.001:0.5]>), ('Yxp', <Parameter 'Yxp', value=0.009328407162281487 +/- 0.000417, bounds=[0.0001:0.2]>), ('HX', <Parameter 'HX', value=1.77 (fixed), bounds=[1.77:2.1]>), ('OX', <Parameter 'OX', value=0.54 (fixed), bounds=[0.54:0.63]>), ('NX', <Parameter 'NX', value=0.16 (fixed), bounds=[0.14:0.16]>), ('mu_max', <Parameter 'mu_max', value=0.19597075234423872 +/- 0.00153, bounds=[0.1:1]>)])\n"
     ]
    }
   ],
   "source": [
    "path = r\"V:/biomoni/BacillusData/Stamm185\"\n",
    "\n",
    "experiment_dict_for_estimation = {exp : Experiment(path, exp,endpoint = \"Sim_end\") for exp in [\"F5\"]}  #all experiments in a dictionary   \n",
    "experiment_dict_for_graphs = {exp : Experiment(path, exp, endpoint = \"F_end\") for exp in [\"F5\"]} \n",
    "\n",
    "\n",
    "\n",
    "#Exp = experiment_dict \n",
    "b= Bacillus_vf()\n",
    "b.estimate(experiment_dict_for_estimation)\n",
    "b.report()\n",
    "print(b.p)\n"
   ]
  },
  {
   "cell_type": "code",
   "execution_count": null,
   "metadata": {},
   "outputs": [],
   "source": [
    "t_grid = np.linspace(0,64,1001) \n",
    "sim_dict_all = {experiment.exp_id: b.simulate(experiment = experiment, t_grid = t_grid) for experiment in experiment_dict_for_estimation.values()} \n",
    "\n",
    "CRR_all ={}\n",
    "\n",
    "for key in experiment_dict_for_graphs.keys():\n",
    "    CRR_all[key]= {}\n",
    "\n",
    "for key, dat in sim_dict_all.items():\n",
    "    V_func= interp1d(x=sim_dict_all[key][\"V\"].index, y=sim_dict_all[key][\"V\"], fill_value = (sim_dict_all[key][\"V\"].iloc[0], sim_dict_all[key][\"V\"].iloc[-1]) , bounds_error= False)\n",
    "    exp =Experiment(path, key, endpoint=\"F_end\")\n",
    "    c = b.create_controls(exp)\n",
    "    y0 = b.create_y0(exp)\n",
    "    #datasaet = exp.dataset\n",
    "    \n",
    "    CRR1, CRR2 = b.calc_CRR(experiment=exp,c=c,V=V_func,y0=y0)\n",
    "    \n",
    "    CRR_all[key]= {\"CR1\": CRR1,\"CR2\": CRR2}\n",
    "    \n",
    "    \n",
    "print(CRR_all)\n",
    "    \n",
    "\n",
    "\n"
   ]
  },
  {
   "cell_type": "code",
   "execution_count": 4,
   "metadata": {},
   "outputs": [
    {
     "name": "stdout",
     "output_type": "stream",
     "text": [
      "{'off': {'Glucose [g/L]': 0.03191800750123827, 'CDW_calc': 0.8499599165745977, 'RF [mg/L]': 0.00864467403342319}, 'on': {('BASET_2', 'Value'): 8.144595812061279e-05, ('pO2_2', 'Value'): 6.188072860845093e-05}, 'CO2': {'CO2': 0.008650996108133127}}\n",
      "mX0 changed to 0.0133800816825\n",
      "difference in Glucose [g/L] is processed.\n",
      "difference in CDW_calc is processed.\n",
      "difference in RF [mg/L] is processed.\n",
      "mX0 changed to 0.0133800816825\n",
      "mX0 changed to 0.0133800816825\n",
      "mX0 changed to 0.0133800816825\n",
      "difference in Glucose [g/L] is processed.\n",
      "difference in CDW_calc is processed.\n",
      "difference in RF [mg/L] is processed.\n",
      "mX0 changed to 0.0133800816825\n",
      "mX0 changed to 0.0133800816825\n",
      "mX0 changed to 0.0133800816825\n",
      "difference in Glucose [g/L] is processed.\n",
      "difference in CDW_calc is processed.\n",
      "difference in RF [mg/L] is processed.\n",
      "mX0 changed to 0.0133800816825\n",
      "mX0 changed to 0.0133800816825\n",
      "mX0 changed to 0.0133800816825\n",
      "difference in Glucose [g/L] is processed.\n",
      "difference in CDW_calc is processed.\n",
      "difference in RF [mg/L] is processed.\n",
      "mX0 changed to 0.0133800816825\n",
      "mX0 changed to 0.0133800816825\n",
      "mX0 changed to 0.0133800816825\n",
      "difference in Glucose [g/L] is processed.\n",
      "difference in CDW_calc is processed.\n",
      "difference in RF [mg/L] is processed.\n",
      "mX0 changed to 0.0133800816825\n",
      "mX0 changed to 0.0133800816825\n",
      "mX0 changed to 0.0133800816825\n",
      "difference in Glucose [g/L] is processed.\n",
      "difference in CDW_calc is processed.\n",
      "difference in RF [mg/L] is processed.\n",
      "mX0 changed to 0.0133800816825\n",
      "mX0 changed to 0.0133800816825\n",
      "mX0 changed to 0.0133800816825\n",
      "difference in Glucose [g/L] is processed.\n",
      "difference in CDW_calc is processed.\n",
      "difference in RF [mg/L] is processed.\n",
      "mX0 changed to 0.0133800816825\n",
      "mX0 changed to 0.0133800816825\n",
      "mX0 changed to 0.0133800816825\n",
      "difference in Glucose [g/L] is processed.\n",
      "difference in CDW_calc is processed.\n",
      "difference in RF [mg/L] is processed.\n",
      "mX0 changed to 0.0133800816825\n",
      "mX0 changed to 0.0133800816825\n",
      "mX0 changed to 0.0133800816825\n",
      "mX0 changed to 0.0133800816825\n",
      "mX0 changed to 0.0133800816825\n",
      "[[Fit Statistics]]\n",
      "    # fitting method   = leastsq\n",
      "    # function evals   = 5\n",
      "    # data points      = 24\n",
      "    # variables        = 3\n",
      "    chi-square         = 0.22721192\n",
      "    reduced chi-square = 0.01081962\n",
      "    Akaike info crit   = -105.838223\n",
      "    Bayesian info crit = -102.304061\n",
      "[[Variables]]\n",
      "    Km:      0.1 (fixed)\n",
      "    Yxs:     0.09772190 +/- 0.00898730 (9.20%) (init = 0.09772189)\n",
      "    Yxp:     0.00932840 +/- 4.1737e-04 (4.47%) (init = 0.009328407)\n",
      "    HX:      1.77 (fixed)\n",
      "    OX:      0.54 (fixed)\n",
      "    NX:      0.16 (fixed)\n",
      "    mu_max:  0.19597074 +/- 0.00153219 (0.78%) (init = 0.1959708)\n",
      "[[Correlations]] (unreported correlations are < 0.100)\n",
      "    C(Yxp, mu_max) =  0.735\n",
      "    C(Yxs, mu_max) =  0.352\n",
      "    C(Yxs, Yxp)    =  0.262\n",
      "Parameters([('Km', <Parameter 'Km', value=0.1 (fixed), bounds=[0.01:0.5]>), ('Yxs', <Parameter 'Yxs', value=0.09772190105871263 +/- 0.00899, bounds=[0.001:0.5]>), ('Yxp', <Parameter 'Yxp', value=0.009328404972839504 +/- 0.000417, bounds=[0.0001:0.2]>), ('HX', <Parameter 'HX', value=1.77 (fixed), bounds=[1.77:2.1]>), ('OX', <Parameter 'OX', value=0.54 (fixed), bounds=[0.54:0.63]>), ('NX', <Parameter 'NX', value=0.16 (fixed), bounds=[0.14:0.16]>), ('mu_max', <Parameter 'mu_max', value=0.19597074386667696 +/- 0.00153, bounds=[0.1:1]>)])\n",
      "mX0 changed to 0.0133800816825\n",
      "{'F5':               V         cX   CDW_calc  BASET_rate  BASE         cS  \\\n",
      "t                                                                    \n",
      "0.00   0.500000   0.026760   0.026760           1     1  30.541770   \n",
      "0.04   0.499311   0.027007   0.027007           1     1  30.581772   \n",
      "0.08   0.497740   0.027305   0.027305           1     1  30.676119   \n",
      "0.12   0.496537   0.027586   0.027586           1     1  30.748211   \n",
      "0.16   0.496177   0.027822   0.027822           1     1  30.768303   \n",
      "...         ...        ...        ...         ...   ...        ...   \n",
      "39.84  0.830823  16.133271  16.133271           1     1   0.032752   \n",
      "39.88  0.831611  16.149156  16.149156           1     1   0.032668   \n",
      "39.92  0.832399  16.165011  16.165011           1     1   0.032584   \n",
      "39.96  0.833187  16.180835  16.180835           1     1   0.032501   \n",
      "40.00  0.833975  16.196630  16.196630           1     1   0.032419   \n",
      "\n",
      "       Glucose [g/L]           cP    RF [mg/L]      Fout     F_out  \n",
      "t                                                                   \n",
      "0.00       30.541770     0.441379     0.441379  0.007420  0.007420  \n",
      "0.04       30.581772     0.464521     0.464521  0.028790  0.028790  \n",
      "0.08       30.676119     0.488768     0.488768  0.038881  0.038881  \n",
      "0.12       30.748211     0.512968     0.512968  0.017511  0.017511  \n",
      "0.16       30.768303     0.536553     0.536553  0.000000  0.000000  \n",
      "...              ...          ...          ...       ...       ...  \n",
      "39.84       0.032752  1728.017227  1728.017227  0.000000  0.000000  \n",
      "39.88       0.032668  1729.721441  1729.721441  0.000000  0.000000  \n",
      "39.92       0.032584  1731.422426  1731.422426  0.000000  0.000000  \n",
      "39.96       0.032501  1733.120191  1733.120191  0.000000  0.000000  \n",
      "40.00       0.032419  1734.814745  1734.814745  0.000000  0.000000  \n",
      "\n",
      "[1001 rows x 11 columns]}\n"
     ]
    }
   ],
   "source": [
    "a = Experiment(path,\"F5\")\n",
    "y0 = b.create_y0(a)\n",
    "c = b.create_controls(a)\n",
    "path = r\"V:/biomoni/BacillusData/Stamm185\"\n",
    "t_grid = np.linspace(0,40,1001) \n",
    "experiment_dict_for_estimation = {exp : Experiment(path, exp,endpoint = \"Sim_end\") for exp in [\"F5\"]}  #all experiments in a dictionary   \n",
    "experiment_dict_for_graphs = {exp : Experiment(path, exp, endpoint = \"F_end\") for exp in [\"F5\"]} \n",
    "\n",
    "b.estimate(experiment_dict_for_estimation)\n",
    "b.report()\n",
    "print(b.p)\n",
    "t_grid = np.linspace(0,40,1001) \n",
    "sim_dict_all = {experiment.exp_id: b.simulate(experiment = experiment, t_grid = t_grid) for experiment in experiment_dict_for_estimation.values()} \n",
    "\n",
    "print(sim_dict_all)"
   ]
  },
  {
   "cell_type": "code",
   "execution_count": 5,
   "metadata": {},
   "outputs": [
    {
     "name": "stdout",
     "output_type": "stream",
     "text": [
      "                           ts    CO2      p  V_CO2 L\n",
      "t                                                   \n",
      "0.010833  2021-12-14 16:49:29  0.038  1.022  -0.0006\n",
      "0.027500  2021-12-14 16:50:29  0.043  1.022   0.0009\n",
      "0.044167  2021-12-14 16:51:29  0.046  1.022   0.0018\n",
      "0.060833  2021-12-14 16:52:29  0.047  1.022   0.0021\n",
      "0.077500  2021-12-14 16:53:29  0.047  1.022   0.0021\n",
      "...                       ...    ...    ...      ...\n",
      "37.611111 2021-12-16 06:25:30  4.526  1.028   1.3458\n",
      "37.627778 2021-12-16 06:26:30  4.536  1.028   1.3488\n",
      "37.644444 2021-12-16 06:27:30  4.551  1.028   1.3533\n",
      "37.661111 2021-12-16 06:28:30  4.517  1.028   1.3431\n",
      "37.677778 2021-12-16 06:29:30  4.538  1.028   1.3494\n",
      "\n",
      "[2261 rows x 4 columns]\n"
     ]
    }
   ],
   "source": [
    "\n",
    "a.dataset[\"CO2\"][\"V_CO2 L\"] = (a.dataset[\"CO2\"][\"CO2\"]- 0.04)/100 * 30   \n",
    "print(a.dataset[\"CO2\"])\n",
    "\n",
    "\n",
    "CO2_func = interp1d(x = a.dataset[\"CO2\"].index, \n",
    "                    y = a.dataset[\"CO2\"][\"V_CO2 L\"], fill_value = (a.dataset[\"CO2\"][\"V_CO2 L\"].iloc[0], a.dataset[\"CO2\"][\"V_CO2 L\"].iloc[-1]) ,\n",
    "                    bounds_error= False)"
   ]
  },
  {
   "cell_type": "code",
   "execution_count": 6,
   "metadata": {},
   "outputs": [
    {
     "name": "stderr",
     "output_type": "stream",
     "text": [
      "C:\\Users\\walkyre\\AppData\\Local\\Temp/ipykernel_24952/3160142363.py:22: IntegrationWarning: The occurrence of roundoff error is detected, which prevents \n",
      "  the requested tolerance from being achieved.  The error may be \n",
      "  underestimated.\n",
      "  cummulation = scipy.integrate.quad(func,0,t,limit=200)\n",
      "C:\\Users\\walkyre\\AppData\\Local\\Temp/ipykernel_24952/3160142363.py:22: IntegrationWarning: The maximum number of subdivisions (200) has been achieved.\n",
      "  If increasing the limit yields no improvement it is advised to analyze \n",
      "  the integrand in order to determine the difficulties.  If the position of a \n",
      "  local difficulty can be determined (singularity, discontinuity) one will \n",
      "  probably gain from splitting up the interval and calling the integrator \n",
      "  on the subranges.  Perhaps a special-purpose integrator should be used.\n",
      "  cummulation = scipy.integrate.quad(func,0,t,limit=200)\n",
      "C:\\Users\\walkyre\\AppData\\Local\\Temp/ipykernel_24952/3160142363.py:50: IntegrationWarning: The maximum number of subdivisions (200) has been achieved.\n",
      "  If increasing the limit yields no improvement it is advised to analyze \n",
      "  the integrand in order to determine the difficulties.  If the position of a \n",
      "  local difficulty can be determined (singularity, discontinuity) one will \n",
      "  probably gain from splitting up the interval and calling the integrator \n",
      "  on the subranges.  Perhaps a special-purpose integrator should be used.\n",
      "  cummulation = scipy.integrate.quad(func,0,t,limit=200)\n"
     ]
    }
   ],
   "source": [
    "t_grid = list(a.dataset[\"off\"].index.values)\n",
    "\n",
    "Carb_RR = []\n",
    "V = 0.5\n",
    "Mw_bm = 24.445          #g/mol molecular weight of biomass assuming composition of C=1,H=1.594,N=0.293,O=0.387,P=0.012,S=0.005\n",
    "Mw_gluc = 180.156       #g/mol molecular weight of glucose C=6,H=12,O=6\n",
    "Mw_RF = 376.36          #g/mol molecular weight of Riboflavin C=17,H=20,N=4,O=6\n",
    "dV_gas_dt = c[\"gas_flow\"]\n",
    "R = 0.08314 #bar*l/mol*K\n",
    "T = c[\"T\"] + 273.15     #Kelvin  \n",
    "pressure = c[\"pressure\"] #bar\n",
    "Mw_CO2 = 44.01\n",
    "\n",
    "F_C_in = c[\"feedrate_glc\"](t_grid)\n",
    "df = pd.DataFrame(data=F_C_in,index=t_grid, columns=[\"feedrate pure glucose g/h\"])\n",
    "\n",
    "# calculate cumulated amount of Glucose from Feed\n",
    "F_C_in_cum = []\n",
    "\n",
    "for t in t_grid:\n",
    "    func = c[\"feedrate_glc\"]\n",
    "    cummulation = scipy.integrate.quad(func,0,t,limit=200)\n",
    "    \n",
    "    F_C_in_cum.append(cummulation)\n",
    "\n",
    "df[\"Glc g_cum\"] = [x[0] for x in F_C_in_cum]\n",
    "\n",
    "\n",
    "#creating column with calculcated Volume values for CO2 [L] from exhaust gas measurment\n",
    "a.dataset[\"CO2\"][\"V_CO2 L\"] = (a.dataset[\"CO2\"][\"CO2\"]- 0.04)/100 * 30   #30 L/h is F_exhaust or Outlet flow (assuming = inlet flow)\n",
    "\n",
    "CO2_func = interp1d(x = a.dataset[\"CO2\"].index, \n",
    "                    y = a.dataset[\"CO2\"][\"CO2\"], fill_value = (a.dataset[\"CO2\"][\"CO2\"].iloc[0], a.dataset[\"CO2\"][\"CO2\"].iloc[-1]) , \n",
    "                    bounds_error= False)\n",
    "\n",
    "V_CO2_func = interp1d(x = a.dataset[\"CO2\"].index, \n",
    "                    y = a.dataset[\"CO2\"][\"V_CO2 L\"], fill_value = (a.dataset[\"CO2\"][\"V_CO2 L\"].iloc[0], a.dataset[\"CO2\"][\"V_CO2 L\"].iloc[-1]) ,\n",
    "                    bounds_error= False)\n",
    "\n",
    "df[\"CO2 %\"] = CO2_func(t_grid)\n",
    "df[\"V_CO2 L\"] = V_CO2_func(t_grid)\n",
    "\n",
    "\n",
    "\n",
    "#calculate cumulated amount of CO2 in exhaust gas \n",
    "CO2_out_cum = []\n",
    "\n",
    "for t in t_grid:\n",
    "    func = V_CO2_func     \n",
    "    cummulation = scipy.integrate.quad(func,0,t,limit=200)\n",
    "    \n",
    "    CO2_out_cum.append(cummulation)\n",
    "    \n",
    "df[\"CO2 L_cum\"] = [x[0] for x in CO2_out_cum]\n",
    "\n",
    "df[\"CO2 mol_cum\"] = (df[\"CO2 L_cum\"] * pressure) / (R * T)\n",
    "\n",
    "#print(df)\n",
    "\n",
    "Carb_RR= {}\n",
    "Carb_RR[\"t\"]= t_grid\n",
    "Carb_RR[\"given\"]=[]\n",
    "Carb_RR[\"found\"]=[]\n",
    "Carb_RR[\"RR\"]=[]\n",
    "\n",
    "for t in t_grid:\n",
    "    \n",
    "    #mass balance of Carbon given (Substrate,Biomass,Product)\n",
    "    nC_Sg = y0[1]/Mw_gluc *6 + df[\"Glc g_cum\"].values[t_grid.index(t)]/Mw_gluc * 6   #initial Substrate + Substrate from Feed\n",
    "    nC_Xg = y0[0]/Mw_bm\n",
    "    nC_Pg = y0[2]/Mw_RF *17\n",
    "    \n",
    "    amountC_given = nC_Sg + nC_Xg + nC_Pg \n",
    "    \n",
    "    \n",
    "    \n",
    "    #mass balance of Carbon found (Substrate,Biomass,Product,CO2)\n",
    "    nC_Sf = (float(a.dataset[\"off\"][\"Glucose [g/L]\"].loc[[t]])*V)/Mw_gluc * 6\n",
    "    nC_Xf = (float(a.dataset[\"off\"][\"CDW_calc\"].loc[[t]])*V)/ Mw_bm\n",
    "    nC_Pf = (float(a.dataset[\"off\"][\"RF [mg/L]\"].loc[[t]])*V /1000)/ Mw_RF * 17\n",
    "    nC_CO2 = float(df[\"CO2 mol_cum\"].values[t_grid.index(t)])/Mw_CO2\n",
    "\n",
    "    amountC_found = nC_Sf + nC_Xf + nC_Pf + nC_CO2\n",
    "    \n",
    "    RR = (amountC_found / amountC_given) * 100\n",
    "    \n",
    "    Carb_RR[\"given\"].append(amountC_given)\n",
    "    Carb_RR[\"found\"].append(amountC_found)\n",
    "   \n",
    "    Carb_RR[\"RR\"].append(RR)\n",
    " \n",
    "df2 = pd.DataFrame.from_dict(Carb_RR)\n",
    " \n",
    "\n",
    "df[\"RR\"] = df2[\"RR\"].values \n",
    "\n",
    "\n",
    "    \n",
    "    \n",
    "#g = a.dataset[\"off\"][\"Glucose [g/L]\"].loc[[0.0694444]]\n",
    "#f= a.dataset[\"off\"][\"Glucose [g/L]\"]\n",
    "#print(t_grid)\n",
    "#print(Carb_RR)\n",
    "\n",
    "#print(f)"
   ]
  },
  {
   "cell_type": "code",
   "execution_count": 9,
   "metadata": {},
   "outputs": [
    {
     "name": "stdout",
     "output_type": "stream",
     "text": [
      "           feedrate pure glucose g/h  Glc g_cum     CO2 %   V_CO2 L  \\\n",
      "0.069444                    0.000000   0.000000  0.047000  0.002100   \n",
      "16.069444                   0.000000   0.000000  0.207583  0.050275   \n",
      "17.752778                   0.000000   0.000000  0.335067  0.088520   \n",
      "18.586111                   3.297837   3.024035  0.397650  0.107295   \n",
      "19.836111                   3.611917   7.351651  0.496550  0.136965   \n",
      "20.802778                   3.856201  10.964868  0.592650  0.165795   \n",
      "21.702778                   4.083037  14.536210  0.673450  0.190035   \n",
      "22.852778                   4.362218  19.393836  0.784500  0.223350   \n",
      "\n",
      "           CO2 L_cum  CO2 mol_cum         RR  \n",
      "0.069444    0.000069     0.000003  98.188543  \n",
      "16.069444   0.159935     0.006360  99.101107  \n",
      "17.752778   0.275302     0.010948  95.796652  \n",
      "18.586111   0.356480     0.014176  83.167205  \n",
      "19.836111   0.507634     0.020187  73.954252  \n",
      "20.802778   0.653583     0.025991  68.515801  \n",
      "21.702778   0.813711     0.032358  65.630813  \n",
      "22.852778   1.051227     0.041804  64.739847  \n",
      "           t     given     found         RR\n",
      "0   0.069444  0.519105  0.509701  98.188543\n",
      "1  16.069444  0.519105  0.514438  99.101107\n",
      "2  17.752778  0.519105  0.497285  95.796652\n",
      "3  18.586111  0.619818  0.515486  83.167205\n",
      "4  19.836111  0.763947  0.564972  73.954252\n",
      "5  20.802778  0.884284  0.605874  68.515801\n",
      "6  21.702778  1.003225  0.658425  65.630813\n",
      "7  22.852778  1.165006  0.754223  64.739847\n"
     ]
    }
   ],
   "source": [
    "print(df)\n",
    "print(df2)"
   ]
  },
  {
   "cell_type": "code",
   "execution_count": 8,
   "metadata": {},
   "outputs": [
    {
     "name": "stderr",
     "output_type": "stream",
     "text": [
      "C:\\Users\\walkyre\\AppData\\Local\\Temp/ipykernel_24952/1925389589.py:22: IntegrationWarning: The occurrence of roundoff error is detected, which prevents \n",
      "  the requested tolerance from being achieved.  The error may be \n",
      "  underestimated.\n",
      "  cummulation = scipy.integrate.quad(func,0,t,limit=200)\n",
      "C:\\Users\\walkyre\\AppData\\Local\\Temp/ipykernel_24952/1925389589.py:22: IntegrationWarning: The maximum number of subdivisions (200) has been achieved.\n",
      "  If increasing the limit yields no improvement it is advised to analyze \n",
      "  the integrand in order to determine the difficulties.  If the position of a \n",
      "  local difficulty can be determined (singularity, discontinuity) one will \n",
      "  probably gain from splitting up the interval and calling the integrator \n",
      "  on the subranges.  Perhaps a special-purpose integrator should be used.\n",
      "  cummulation = scipy.integrate.quad(func,0,t,limit=200)\n",
      "C:\\Users\\walkyre\\AppData\\Local\\Temp/ipykernel_24952/1925389589.py:50: IntegrationWarning: The maximum number of subdivisions (200) has been achieved.\n",
      "  If increasing the limit yields no improvement it is advised to analyze \n",
      "  the integrand in order to determine the difficulties.  If the position of a \n",
      "  local difficulty can be determined (singularity, discontinuity) one will \n",
      "  probably gain from splitting up the interval and calling the integrator \n",
      "  on the subranges.  Perhaps a special-purpose integrator should be used.\n",
      "  cummulation = scipy.integrate.quad(func,0,t,limit=200)\n"
     ]
    }
   ],
   "source": [
    "t_grid = list(a.dataset[\"off\"].index.values)\n",
    "\n",
    "\n",
    "V = 0.5\n",
    "Mw_bm = 24.445          #g/mol molecular weight of biomass assuming composition of C=1,H=1.594,N=0.293,O=0.387,P=0.012,S=0.005\n",
    "Mw_gluc = 180.156       #g/mol molecular weight of glucose C=6,H=12,O=6\n",
    "Mw_RF = 376.36          #g/mol molecular weight of Riboflavin C=17,H=20,N=4,O=6\n",
    "dV_gas_dt = c[\"gas_flow\"]\n",
    "R = 0.08314 #bar*l/mol*K\n",
    "T = c[\"T\"] + 273.15     #Kelvin  \n",
    "pressure = c[\"pressure\"] #bar\n",
    "Mw_CO2 = 44.01\n",
    "\n",
    "F_C_in = c[\"feedrate_glc\"](t_grid)\n",
    "df = pd.DataFrame(data=F_C_in,index=t_grid, columns=[\"feedrate pure glucose g/h\"])\n",
    "\n",
    "# calculate cumulated amount of Glucose from Feed\n",
    "F_C_in_cum = []\n",
    "\n",
    "for t in t_grid:\n",
    "    func = c[\"feedrate_glc\"]\n",
    "    cummulation = scipy.integrate.quad(func,0,t,limit=200)\n",
    "    \n",
    "    F_C_in_cum.append(cummulation)\n",
    "\n",
    "df[\"Glc g_cum\"] = [x[0] for x in F_C_in_cum]\n",
    "\n",
    "\n",
    "#creating column with calculcated Volume values for CO2 [L] from exhaust gas measurment\n",
    "a.dataset[\"CO2\"][\"V_CO2 L\"] = (a.dataset[\"CO2\"][\"CO2\"]- 0.04)/100 * 30   #30 L/h is F_exhaust or Outlet flow (assuming = inlet flow)\n",
    "\n",
    "CO2_func = interp1d(x = a.dataset[\"CO2\"].index, \n",
    "                    y = a.dataset[\"CO2\"][\"CO2\"], fill_value = (a.dataset[\"CO2\"][\"CO2\"].iloc[0], a.dataset[\"CO2\"][\"CO2\"].iloc[-1]) , \n",
    "                    bounds_error= False)\n",
    "\n",
    "V_CO2_func = interp1d(x = a.dataset[\"CO2\"].index, \n",
    "                    y = a.dataset[\"CO2\"][\"V_CO2 L\"], fill_value = (a.dataset[\"CO2\"][\"V_CO2 L\"].iloc[0], a.dataset[\"CO2\"][\"V_CO2 L\"].iloc[-1]) ,\n",
    "                    bounds_error= False)\n",
    "\n",
    "df[\"CO2 %\"] = CO2_func(t_grid)\n",
    "df[\"V_CO2 L\"] = V_CO2_func(t_grid)\n",
    "\n",
    "\n",
    "\n",
    "#calculate cumulated amount of CO2 in exhaust gas \n",
    "CO2_out_cum = []\n",
    "\n",
    "for t in t_grid:\n",
    "    func = V_CO2_func     \n",
    "    cummulation = scipy.integrate.quad(func,0,t,limit=200)\n",
    "    \n",
    "    CO2_out_cum.append(cummulation)\n",
    "    \n",
    "df[\"CO2 L_cum\"] = [x[0] for x in CO2_out_cum]\n",
    "\n",
    "df[\"CO2 mol_cum\"] = (df[\"CO2 L_cum\"] * pressure) / (R * T)\n",
    "\n",
    "\n",
    "#calculation of recovery rate\n",
    "\n",
    "Carb_RR= {}\n",
    "Carb_RR[\"t\"]= t_grid\n",
    "Carb_RR[\"given\"]=[]\n",
    "Carb_RR[\"found\"]=[]\n",
    "Carb_RR[\"RR\"]=[]\n",
    "\n",
    "for t in t_grid:\n",
    "    \n",
    "    #mass balance of Carbon given (Substrate,Biomass,Product)\n",
    "    nC_Sg = y0[1]/Mw_gluc *6 + df[\"Glc g_cum\"].values[t_grid.index(t)]/Mw_gluc * 6   #initial Substrate + Substrate from Feed\n",
    "    nC_Xg = y0[0]/Mw_bm\n",
    "    nC_Pg = y0[2]/Mw_RF *17\n",
    "    \n",
    "    amountC_given = nC_Sg + nC_Xg + nC_Pg \n",
    "    \n",
    "    \n",
    "    \n",
    "    #mass balance of Carbon found (Substrate,Biomass,Product,CO2)\n",
    "    nC_Sf = (float(a.dataset[\"off\"][\"Glucose [g/L]\"].loc[[t]])*V)/Mw_gluc * 6\n",
    "    nC_Xf = (float(a.dataset[\"off\"][\"CDW_calc\"].loc[[t]])*V)/ Mw_bm\n",
    "    nC_Pf = (float(a.dataset[\"off\"][\"RF [mg/L]\"].loc[[t]])*V /1000)/ Mw_RF * 17\n",
    "    nC_CO2 = float(df[\"CO2 mol_cum\"].values[t_grid.index(t)])/Mw_CO2\n",
    "\n",
    "    amountC_found = nC_Sf + nC_Xf + nC_Pf + nC_CO2\n",
    "    \n",
    "    RR = (amountC_found / amountC_given) * 100\n",
    "    \n",
    "    Carb_RR[\"given\"].append(amountC_given)\n",
    "    Carb_RR[\"found\"].append(amountC_found)\n",
    "   \n",
    "    Carb_RR[\"RR\"].append(RR)\n",
    " \n",
    "df2 = pd.DataFrame.from_dict(Carb_RR)\n",
    " \n",
    "\n",
    "df[\"RR\"] = df2[\"RR\"].values \n",
    "\n"
   ]
  },
  {
   "cell_type": "code",
   "execution_count": 10,
   "metadata": {},
   "outputs": [
    {
     "name": "stdout",
     "output_type": "stream",
     "text": [
      "           feedrate pure glucose g/h  Glc g_cum     CO2 %   V_CO2 L  \\\n",
      "0.069444                    0.000000   0.000000  0.047000  0.002100   \n",
      "16.069444                   0.000000   0.000000  0.207583  0.050275   \n",
      "17.752778                   0.000000   0.000000  0.335067  0.088520   \n",
      "18.586111                   3.297837   3.024035  0.397650  0.107295   \n",
      "19.836111                   3.611917   7.351651  0.496550  0.136965   \n",
      "20.802778                   3.856201  10.964868  0.592650  0.165795   \n",
      "21.702778                   4.083037  14.536210  0.673450  0.190035   \n",
      "22.852778                   4.362218  19.393836  0.784500  0.223350   \n",
      "\n",
      "           CO2 L_cum  CO2 mol_cum         RR  \n",
      "0.069444    0.000069     0.000003  98.188543  \n",
      "16.069444   0.159935     0.006360  99.101107  \n",
      "17.752778   0.275302     0.010948  95.796652  \n",
      "18.586111   0.356480     0.014176  83.167205  \n",
      "19.836111   0.507634     0.020187  73.954252  \n",
      "20.802778   0.653583     0.025991  68.515801  \n",
      "21.702778   0.813711     0.032358  65.630813  \n",
      "22.852778   1.051227     0.041804  64.739847  \n",
      "           t     given     found         RR\n",
      "0   0.069444  0.519105  0.509701  98.188543\n",
      "1  16.069444  0.519105  0.514438  99.101107\n",
      "2  17.752778  0.519105  0.497285  95.796652\n",
      "3  18.586111  0.619818  0.515486  83.167205\n",
      "4  19.836111  0.763947  0.564972  73.954252\n",
      "5  20.802778  0.884284  0.605874  68.515801\n",
      "6  21.702778  1.003225  0.658425  65.630813\n",
      "7  22.852778  1.165006  0.754223  64.739847\n"
     ]
    }
   ],
   "source": [
    "print(df)\n",
    "print(df2)"
   ]
  },
  {
   "cell_type": "code",
   "execution_count": 58,
   "metadata": {},
   "outputs": [
    {
     "data": {
      "application/vnd.plotly.v1+json": {
       "config": {
        "plotlyServerURL": "https://plot.ly"
       },
       "data": [
        {
         "name": "glc cum",
         "type": "scatter",
         "x": [
          0.06944444444444445,
          16.069444444444443,
          17.752777777777776,
          18.586111111111112,
          19.836111111111112,
          20.802777777777777,
          21.70277777777778,
          22.852777777777778,
          39.452777777777776,
          40.71944444444444,
          41.952777777777776,
          43.40277777777778,
          44.736111111111114,
          46.05277777777778,
          47.33611111111111,
          63.71944444444444
         ],
         "xaxis": "x",
         "y": [
          0,
          0,
          0,
          3.0240354518297132,
          7.351651247938763,
          10.964867812698087,
          14.536210023730053,
          19.39383608801787,
          119.19788473848374,
          127.59716631077777,
          135.7752339501158,
          145.48369289962415,
          154.22978250015532,
          162.96035696670978,
          170.5678170967177,
          245.0334469582108
         ],
         "yaxis": "y2"
        },
        {
         "type": "scatter",
         "x": [
          0.06944444444444445,
          16.069444444444443,
          17.752777777777776,
          18.586111111111112,
          19.836111111111112,
          20.802777777777777,
          21.70277777777778,
          22.852777777777778,
          39.452777777777776,
          40.71944444444444,
          41.952777777777776,
          43.40277777777778,
          44.736111111111114,
          46.05277777777778,
          47.33611111111111,
          63.71944444444444
         ],
         "xaxis": "x",
         "y": [
          0,
          0,
          0,
          3.297837257385254,
          3.6119167804718018,
          3.856201410293579,
          4.08303689956665,
          4.362218379974365,
          6.6305718421936035,
          6.6305718421936035,
          6.6305718421936035,
          6.6305718421936035,
          6.6305718421936035,
          6.6305718421936035,
          6.6305718421936035,
          3.1407973766326904
         ],
         "yaxis": "y"
        }
       ],
       "layout": {
        "template": {
         "data": {
          "bar": [
           {
            "error_x": {
             "color": "#2a3f5f"
            },
            "error_y": {
             "color": "#2a3f5f"
            },
            "marker": {
             "line": {
              "color": "#E5ECF6",
              "width": 0.5
             },
             "pattern": {
              "fillmode": "overlay",
              "size": 10,
              "solidity": 0.2
             }
            },
            "type": "bar"
           }
          ],
          "barpolar": [
           {
            "marker": {
             "line": {
              "color": "#E5ECF6",
              "width": 0.5
             },
             "pattern": {
              "fillmode": "overlay",
              "size": 10,
              "solidity": 0.2
             }
            },
            "type": "barpolar"
           }
          ],
          "carpet": [
           {
            "aaxis": {
             "endlinecolor": "#2a3f5f",
             "gridcolor": "white",
             "linecolor": "white",
             "minorgridcolor": "white",
             "startlinecolor": "#2a3f5f"
            },
            "baxis": {
             "endlinecolor": "#2a3f5f",
             "gridcolor": "white",
             "linecolor": "white",
             "minorgridcolor": "white",
             "startlinecolor": "#2a3f5f"
            },
            "type": "carpet"
           }
          ],
          "choropleth": [
           {
            "colorbar": {
             "outlinewidth": 0,
             "ticks": ""
            },
            "type": "choropleth"
           }
          ],
          "contour": [
           {
            "colorbar": {
             "outlinewidth": 0,
             "ticks": ""
            },
            "colorscale": [
             [
              0,
              "#0d0887"
             ],
             [
              0.1111111111111111,
              "#46039f"
             ],
             [
              0.2222222222222222,
              "#7201a8"
             ],
             [
              0.3333333333333333,
              "#9c179e"
             ],
             [
              0.4444444444444444,
              "#bd3786"
             ],
             [
              0.5555555555555556,
              "#d8576b"
             ],
             [
              0.6666666666666666,
              "#ed7953"
             ],
             [
              0.7777777777777778,
              "#fb9f3a"
             ],
             [
              0.8888888888888888,
              "#fdca26"
             ],
             [
              1,
              "#f0f921"
             ]
            ],
            "type": "contour"
           }
          ],
          "contourcarpet": [
           {
            "colorbar": {
             "outlinewidth": 0,
             "ticks": ""
            },
            "type": "contourcarpet"
           }
          ],
          "heatmap": [
           {
            "colorbar": {
             "outlinewidth": 0,
             "ticks": ""
            },
            "colorscale": [
             [
              0,
              "#0d0887"
             ],
             [
              0.1111111111111111,
              "#46039f"
             ],
             [
              0.2222222222222222,
              "#7201a8"
             ],
             [
              0.3333333333333333,
              "#9c179e"
             ],
             [
              0.4444444444444444,
              "#bd3786"
             ],
             [
              0.5555555555555556,
              "#d8576b"
             ],
             [
              0.6666666666666666,
              "#ed7953"
             ],
             [
              0.7777777777777778,
              "#fb9f3a"
             ],
             [
              0.8888888888888888,
              "#fdca26"
             ],
             [
              1,
              "#f0f921"
             ]
            ],
            "type": "heatmap"
           }
          ],
          "heatmapgl": [
           {
            "colorbar": {
             "outlinewidth": 0,
             "ticks": ""
            },
            "colorscale": [
             [
              0,
              "#0d0887"
             ],
             [
              0.1111111111111111,
              "#46039f"
             ],
             [
              0.2222222222222222,
              "#7201a8"
             ],
             [
              0.3333333333333333,
              "#9c179e"
             ],
             [
              0.4444444444444444,
              "#bd3786"
             ],
             [
              0.5555555555555556,
              "#d8576b"
             ],
             [
              0.6666666666666666,
              "#ed7953"
             ],
             [
              0.7777777777777778,
              "#fb9f3a"
             ],
             [
              0.8888888888888888,
              "#fdca26"
             ],
             [
              1,
              "#f0f921"
             ]
            ],
            "type": "heatmapgl"
           }
          ],
          "histogram": [
           {
            "marker": {
             "pattern": {
              "fillmode": "overlay",
              "size": 10,
              "solidity": 0.2
             }
            },
            "type": "histogram"
           }
          ],
          "histogram2d": [
           {
            "colorbar": {
             "outlinewidth": 0,
             "ticks": ""
            },
            "colorscale": [
             [
              0,
              "#0d0887"
             ],
             [
              0.1111111111111111,
              "#46039f"
             ],
             [
              0.2222222222222222,
              "#7201a8"
             ],
             [
              0.3333333333333333,
              "#9c179e"
             ],
             [
              0.4444444444444444,
              "#bd3786"
             ],
             [
              0.5555555555555556,
              "#d8576b"
             ],
             [
              0.6666666666666666,
              "#ed7953"
             ],
             [
              0.7777777777777778,
              "#fb9f3a"
             ],
             [
              0.8888888888888888,
              "#fdca26"
             ],
             [
              1,
              "#f0f921"
             ]
            ],
            "type": "histogram2d"
           }
          ],
          "histogram2dcontour": [
           {
            "colorbar": {
             "outlinewidth": 0,
             "ticks": ""
            },
            "colorscale": [
             [
              0,
              "#0d0887"
             ],
             [
              0.1111111111111111,
              "#46039f"
             ],
             [
              0.2222222222222222,
              "#7201a8"
             ],
             [
              0.3333333333333333,
              "#9c179e"
             ],
             [
              0.4444444444444444,
              "#bd3786"
             ],
             [
              0.5555555555555556,
              "#d8576b"
             ],
             [
              0.6666666666666666,
              "#ed7953"
             ],
             [
              0.7777777777777778,
              "#fb9f3a"
             ],
             [
              0.8888888888888888,
              "#fdca26"
             ],
             [
              1,
              "#f0f921"
             ]
            ],
            "type": "histogram2dcontour"
           }
          ],
          "mesh3d": [
           {
            "colorbar": {
             "outlinewidth": 0,
             "ticks": ""
            },
            "type": "mesh3d"
           }
          ],
          "parcoords": [
           {
            "line": {
             "colorbar": {
              "outlinewidth": 0,
              "ticks": ""
             }
            },
            "type": "parcoords"
           }
          ],
          "pie": [
           {
            "automargin": true,
            "type": "pie"
           }
          ],
          "scatter": [
           {
            "marker": {
             "colorbar": {
              "outlinewidth": 0,
              "ticks": ""
             }
            },
            "type": "scatter"
           }
          ],
          "scatter3d": [
           {
            "line": {
             "colorbar": {
              "outlinewidth": 0,
              "ticks": ""
             }
            },
            "marker": {
             "colorbar": {
              "outlinewidth": 0,
              "ticks": ""
             }
            },
            "type": "scatter3d"
           }
          ],
          "scattercarpet": [
           {
            "marker": {
             "colorbar": {
              "outlinewidth": 0,
              "ticks": ""
             }
            },
            "type": "scattercarpet"
           }
          ],
          "scattergeo": [
           {
            "marker": {
             "colorbar": {
              "outlinewidth": 0,
              "ticks": ""
             }
            },
            "type": "scattergeo"
           }
          ],
          "scattergl": [
           {
            "marker": {
             "colorbar": {
              "outlinewidth": 0,
              "ticks": ""
             }
            },
            "type": "scattergl"
           }
          ],
          "scattermapbox": [
           {
            "marker": {
             "colorbar": {
              "outlinewidth": 0,
              "ticks": ""
             }
            },
            "type": "scattermapbox"
           }
          ],
          "scatterpolar": [
           {
            "marker": {
             "colorbar": {
              "outlinewidth": 0,
              "ticks": ""
             }
            },
            "type": "scatterpolar"
           }
          ],
          "scatterpolargl": [
           {
            "marker": {
             "colorbar": {
              "outlinewidth": 0,
              "ticks": ""
             }
            },
            "type": "scatterpolargl"
           }
          ],
          "scatterternary": [
           {
            "marker": {
             "colorbar": {
              "outlinewidth": 0,
              "ticks": ""
             }
            },
            "type": "scatterternary"
           }
          ],
          "surface": [
           {
            "colorbar": {
             "outlinewidth": 0,
             "ticks": ""
            },
            "colorscale": [
             [
              0,
              "#0d0887"
             ],
             [
              0.1111111111111111,
              "#46039f"
             ],
             [
              0.2222222222222222,
              "#7201a8"
             ],
             [
              0.3333333333333333,
              "#9c179e"
             ],
             [
              0.4444444444444444,
              "#bd3786"
             ],
             [
              0.5555555555555556,
              "#d8576b"
             ],
             [
              0.6666666666666666,
              "#ed7953"
             ],
             [
              0.7777777777777778,
              "#fb9f3a"
             ],
             [
              0.8888888888888888,
              "#fdca26"
             ],
             [
              1,
              "#f0f921"
             ]
            ],
            "type": "surface"
           }
          ],
          "table": [
           {
            "cells": {
             "fill": {
              "color": "#EBF0F8"
             },
             "line": {
              "color": "white"
             }
            },
            "header": {
             "fill": {
              "color": "#C8D4E3"
             },
             "line": {
              "color": "white"
             }
            },
            "type": "table"
           }
          ]
         },
         "layout": {
          "annotationdefaults": {
           "arrowcolor": "#2a3f5f",
           "arrowhead": 0,
           "arrowwidth": 1
          },
          "autotypenumbers": "strict",
          "coloraxis": {
           "colorbar": {
            "outlinewidth": 0,
            "ticks": ""
           }
          },
          "colorscale": {
           "diverging": [
            [
             0,
             "#8e0152"
            ],
            [
             0.1,
             "#c51b7d"
            ],
            [
             0.2,
             "#de77ae"
            ],
            [
             0.3,
             "#f1b6da"
            ],
            [
             0.4,
             "#fde0ef"
            ],
            [
             0.5,
             "#f7f7f7"
            ],
            [
             0.6,
             "#e6f5d0"
            ],
            [
             0.7,
             "#b8e186"
            ],
            [
             0.8,
             "#7fbc41"
            ],
            [
             0.9,
             "#4d9221"
            ],
            [
             1,
             "#276419"
            ]
           ],
           "sequential": [
            [
             0,
             "#0d0887"
            ],
            [
             0.1111111111111111,
             "#46039f"
            ],
            [
             0.2222222222222222,
             "#7201a8"
            ],
            [
             0.3333333333333333,
             "#9c179e"
            ],
            [
             0.4444444444444444,
             "#bd3786"
            ],
            [
             0.5555555555555556,
             "#d8576b"
            ],
            [
             0.6666666666666666,
             "#ed7953"
            ],
            [
             0.7777777777777778,
             "#fb9f3a"
            ],
            [
             0.8888888888888888,
             "#fdca26"
            ],
            [
             1,
             "#f0f921"
            ]
           ],
           "sequentialminus": [
            [
             0,
             "#0d0887"
            ],
            [
             0.1111111111111111,
             "#46039f"
            ],
            [
             0.2222222222222222,
             "#7201a8"
            ],
            [
             0.3333333333333333,
             "#9c179e"
            ],
            [
             0.4444444444444444,
             "#bd3786"
            ],
            [
             0.5555555555555556,
             "#d8576b"
            ],
            [
             0.6666666666666666,
             "#ed7953"
            ],
            [
             0.7777777777777778,
             "#fb9f3a"
            ],
            [
             0.8888888888888888,
             "#fdca26"
            ],
            [
             1,
             "#f0f921"
            ]
           ]
          },
          "colorway": [
           "#636efa",
           "#EF553B",
           "#00cc96",
           "#ab63fa",
           "#FFA15A",
           "#19d3f3",
           "#FF6692",
           "#B6E880",
           "#FF97FF",
           "#FECB52"
          ],
          "font": {
           "color": "#2a3f5f"
          },
          "geo": {
           "bgcolor": "white",
           "lakecolor": "white",
           "landcolor": "#E5ECF6",
           "showlakes": true,
           "showland": true,
           "subunitcolor": "white"
          },
          "hoverlabel": {
           "align": "left"
          },
          "hovermode": "closest",
          "mapbox": {
           "style": "light"
          },
          "paper_bgcolor": "white",
          "plot_bgcolor": "#E5ECF6",
          "polar": {
           "angularaxis": {
            "gridcolor": "white",
            "linecolor": "white",
            "ticks": ""
           },
           "bgcolor": "#E5ECF6",
           "radialaxis": {
            "gridcolor": "white",
            "linecolor": "white",
            "ticks": ""
           }
          },
          "scene": {
           "xaxis": {
            "backgroundcolor": "#E5ECF6",
            "gridcolor": "white",
            "gridwidth": 2,
            "linecolor": "white",
            "showbackground": true,
            "ticks": "",
            "zerolinecolor": "white"
           },
           "yaxis": {
            "backgroundcolor": "#E5ECF6",
            "gridcolor": "white",
            "gridwidth": 2,
            "linecolor": "white",
            "showbackground": true,
            "ticks": "",
            "zerolinecolor": "white"
           },
           "zaxis": {
            "backgroundcolor": "#E5ECF6",
            "gridcolor": "white",
            "gridwidth": 2,
            "linecolor": "white",
            "showbackground": true,
            "ticks": "",
            "zerolinecolor": "white"
           }
          },
          "shapedefaults": {
           "line": {
            "color": "#2a3f5f"
           }
          },
          "ternary": {
           "aaxis": {
            "gridcolor": "white",
            "linecolor": "white",
            "ticks": ""
           },
           "baxis": {
            "gridcolor": "white",
            "linecolor": "white",
            "ticks": ""
           },
           "bgcolor": "#E5ECF6",
           "caxis": {
            "gridcolor": "white",
            "linecolor": "white",
            "ticks": ""
           }
          },
          "title": {
           "x": 0.05
          },
          "xaxis": {
           "automargin": true,
           "gridcolor": "white",
           "linecolor": "white",
           "ticks": "",
           "title": {
            "standoff": 15
           },
           "zerolinecolor": "white",
           "zerolinewidth": 2
          },
          "yaxis": {
           "automargin": true,
           "gridcolor": "white",
           "linecolor": "white",
           "ticks": "",
           "title": {
            "standoff": 15
           },
           "zerolinecolor": "white",
           "zerolinewidth": 2
          }
         }
        },
        "xaxis": {
         "anchor": "y",
         "domain": [
          0,
          0.94
         ]
        },
        "yaxis": {
         "anchor": "x",
         "domain": [
          0,
          1
         ]
        },
        "yaxis2": {
         "anchor": "x",
         "overlaying": "y",
         "side": "right"
        }
       }
      }
     },
     "metadata": {},
     "output_type": "display_data"
    }
   ],
   "source": [
    "import plotly.graph_objects as go\n",
    "from plotly.subplots import make_subplots\n",
    "\n",
    "x = df.index\n",
    "\n",
    "\n",
    "fig = make_subplots(specs=[[{\"secondary_y\": True}]])\n",
    "fig.add_trace(go.Scatter( x= x, y=df[\"Glc g_cum\"],name=\"glc cum\"), secondary_y=True)\n",
    "fig.add_trace(go.Scatter( x= x, y=df[\"feedrate pure glucose g/h\"]),secondary_y=False)\n",
    "fig.show()"
   ]
  },
  {
   "cell_type": "code",
   "execution_count": null,
   "metadata": {},
   "outputs": [],
   "source": [
    "def calc_CRR(self,experiment, V, y0):\n",
    "\n",
    "    Mw_bm = 24.445          #g/mol molecular weight of biomass assuming composition of C=1,H=1.594,N=0.293,O=0.387,P=0.012,S=0.005\n",
    "    Mw_gluc = 180.156       #g/mol molecular weight of glucose C=6,H=12,O=6\n",
    "    Mw_RF = 376.36          #g/mol molecular weight of Riboflavin C=17,H=20,N=4,O=6\n",
    "    F_C_in = c[\"feedrate_glc\"](t_grid)\n",
    "        \n",
    "    amountC_given = (y0[0]/Mw_bm)+(y0[1]/Mw_gluc *6)+(y0[2]/Mw_RF *17)\n",
    "\n",
    "    t_grid = experiment.dataset[\"off\"].index.values\n",
    "    Carb_RR=[]\n",
    "    for t in t_grid:\n",
    "        \n",
    "        nC_S = float(a.dataset[\"off\"][\"Glucose [g/L]\"].loc[[t]])*V\n",
    "        nC_X = float(a.dataset[\"off\"][\"CDW_calc\"].loc[[t]])*V\n",
    "        nC_P = float(a.dataset[\"off\"][\"RF [mg/L]\"].loc[[t]])* V /1000\n",
    "        nC_CO2_cum = 1\n",
    "        \n",
    "        amountC_found = nC_S + nC_X + nC_P+ nC_CO2_cum\n",
    "        Carb_RR = amountC_found / amountC_given\n",
    "        \n",
    "        return Carb_RR"
   ]
  }
 ],
 "metadata": {
  "interpreter": {
   "hash": "3776b54c573491d09a8e84dce8ca39a954a775ec43e38eb0a634b33ef2d6c0cb"
  },
  "kernelspec": {
   "display_name": "Python 3.8.12 ('MasterThesis_VB')",
   "language": "python",
   "name": "python3"
  },
  "language_info": {
   "codemirror_mode": {
    "name": "ipython",
    "version": 3
   },
   "file_extension": ".py",
   "mimetype": "text/x-python",
   "name": "python",
   "nbconvert_exporter": "python",
   "pygments_lexer": "ipython3",
   "version": "3.8.12"
  },
  "orig_nbformat": 4
 },
 "nbformat": 4,
 "nbformat_minor": 2
}
