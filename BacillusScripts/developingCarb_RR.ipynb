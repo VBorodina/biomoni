{
 "cells": [
  {
   "cell_type": "code",
   "execution_count": 222,
   "metadata": {},
   "outputs": [],
   "source": [
    "import sys\n",
    "sys.path.append(\"V:/biomoni/\") \n",
    "from biomoni import Experiment\n",
    "from BacillusScripts.BacillusVariableFeedrate_copy import Bacillus_vf\n",
    "from biomoni import Model\n",
    "import scipy\n",
    "import pandas as pd\n",
    "import numpy as np"
   ]
  },
  {
   "cell_type": "code",
   "execution_count": 223,
   "metadata": {},
   "outputs": [],
   "source": [
    "a = Experiment(\"V:/biomoni/BacillusData/Stamm185\", \"F5\", endpoint=\"F_end\")\n",
    "\n",
    "b= Bacillus_vf()\n"
   ]
  },
  {
   "cell_type": "code",
   "execution_count": 224,
   "metadata": {},
   "outputs": [
    {
     "name": "stdout",
     "output_type": "stream",
     "text": [
      "{'feed_%_to_mL': 0.0864, 'feed_on': datetime.datetime(2021, 12, 15, 10, 44), 'add_IPTG': datetime.datetime(2021, 12, 15, 9, 3), 'feed_rate_mL_to_g': 1.14, 'csf': 336.59095416979716, 'cNH3': 184.61, 'gas_flow_lpm': 0.5, 'T': 37, 'gas_flow': 30.0, 'pressure': 1.0275395886889758, 'feedrate_glc': <scipy.interpolate.interpolate.interp1d object at 0x0000020F14F4DD10>, 'feedrate_volume': <scipy.interpolate.interpolate.interp1d object at 0x0000020F15821F40>, 'Fout': <scipy.interpolate.interpolate.interp1d object at 0x0000020F14F4D9A0>}\n"
     ]
    }
   ],
   "source": [
    "y0 = b.create_y0(a)\n",
    "c = b.create_controls(a)\n",
    "print(c)"
   ]
  },
  {
   "cell_type": "code",
   "execution_count": 225,
   "metadata": {},
   "outputs": [
    {
     "name": "stdout",
     "output_type": "stream",
     "text": [
      "336.59095416979716\n",
      "[0.         0.         0.         3.29783726 3.61191678 3.85620141\n",
      " 4.0830369  4.36221838 6.63057184 6.63057184 6.63057184 6.63057184\n",
      " 6.63057184 6.63057184 6.63057184 3.14079738]\n"
     ]
    },
    {
     "name": "stderr",
     "output_type": "stream",
     "text": [
      "C:\\Users\\walkyre\\AppData\\Local\\Temp/ipykernel_6636/637452770.py:17: IntegrationWarning:\n",
      "\n",
      "The occurrence of roundoff error is detected, which prevents \n",
      "  the requested tolerance from being achieved.  The error may be \n",
      "  underestimated.\n",
      "\n",
      "C:\\Users\\walkyre\\AppData\\Local\\Temp/ipykernel_6636/637452770.py:17: IntegrationWarning:\n",
      "\n",
      "The maximum number of subdivisions (200) has been achieved.\n",
      "  If increasing the limit yields no improvement it is advised to analyze \n",
      "  the integrand in order to determine the difficulties.  If the position of a \n",
      "  local difficulty can be determined (singularity, discontinuity) one will \n",
      "  probably gain from splitting up the interval and calling the integrator \n",
      "  on the subranges.  Perhaps a special-purpose integrator should be used.\n",
      "\n"
     ]
    },
    {
     "name": "stdout",
     "output_type": "stream",
     "text": [
      "           feedrate pure glucose g/h   Glc g_cum\n",
      "0.069444                    0.000000    0.000000\n",
      "16.069444                   0.000000    0.000000\n",
      "17.752778                   0.000000    0.000000\n",
      "18.586111                   3.297837    3.024035\n",
      "19.836111                   3.611917    7.351651\n",
      "20.802778                   3.856201   10.964868\n",
      "21.702778                   4.083037   14.536210\n",
      "22.852778                   4.362218   19.393836\n",
      "39.452778                   6.630572  119.197885\n",
      "40.719444                   6.630572  127.597166\n",
      "41.952778                   6.630572  135.775234\n",
      "43.402778                   6.630572  145.483693\n",
      "44.736111                   6.630572  154.229783\n",
      "46.052778                   6.630572  162.960357\n",
      "47.336111                   6.630572  170.567817\n",
      "63.719444                   3.140797  245.033447\n"
     ]
    }
   ],
   "source": [
    "\n",
    "\n",
    "t_grid = a.dataset[\"off\"].index.values\n",
    "Carb_RR = []\n",
    "V = 0.5\n",
    "Mw_bm = 24.445          #g/mol molecular weight of biomass assuming composition of C=1,H=1.594,N=0.293,O=0.387,P=0.012,S=0.005\n",
    "Mw_gluc = 180.156       #g/mol molecular weight of glucose C=6,H=12,O=6\n",
    "Mw_RF = 376.36          #g/mol molecular weight of Riboflavin C=17,H=20,N=4,O=6\n",
    "\n",
    "print(c[\"csf\"])\n",
    "F_C_in = (c[\"feedrate_glc\"](t_grid))\n",
    "print(F_C_in)\n",
    "df_F_C_in = pd.DataFrame(data=F_C_in,index=t_grid, columns=[\"feedrate pure glucose g/h\"])\n",
    "\n",
    "F_C_in_cum = []\n",
    "\n",
    "for t in t_grid:\n",
    "    func = c[\"feedrate_glc\"]\n",
    "    cummulation = scipy.integrate.quad(func,0,t,limit=200)\n",
    "    \n",
    "    F_C_in_cum.append(cummulation)\n",
    "\n",
    "cummulation_extr = [x[0] for x in F_C_in_cum]\n",
    "df_F_C_in[\"Glc g_cum\"] = cummulation_extr\n",
    "\n",
    "#\n",
    "# for t in t_grid:\n",
    "#     cummulation = scipy.integrate.trapezoid(df_F_C_in[0],x =df_F_C_in.index,axis = 0)\n",
    "#     F_C_in_cum.append(cummulation)\n",
    "\n",
    "\n",
    "print(df_F_C_in)\n",
    "\n",
    "\n",
    "amountC_given = (y0[0]/Mw_bm)+(y0[1]/Mw_gluc *6)+(y0[2]/Mw_RF *17)\n",
    "\n",
    "# for t in t_grid:\n",
    "    \n",
    "#     nC_S = (float(a.dataset[\"off\"][\"Glucose [g/L]\"].loc[[t]])*V)/Mw_gluc * 6\n",
    "#     nC_X = (float(a.dataset[\"off\"][\"CDW_calc\"].loc[[t]])*V)/ Mw_bm\n",
    "#     nC_P = (float(a.dataset[\"off\"][\"RF [mg/L]\"].loc[[t]])*V /1000)/ Mw_RF * 17\n",
    "    \n",
    "#     amountC_found = nC_S + nC_X + nC_P\n",
    "#    # amountC_found = a.dataset[\"off\"][\"Glucose [g/L]\"].loc[[t]]+a.dataset[\"off\"][\"CDW_calc\"].loc[[t]]+a.dataset[\"off\"][\"RF [mg/L]\"].loc[[t]]\n",
    "   \n",
    "#     Carb_RR.append(amountC_found)\n",
    "    \n",
    "    \n",
    "    \n",
    "    \n",
    "#g = a.dataset[\"off\"][\"Glucose [g/L]\"].loc[[0.0694444]]\n",
    "f= a.dataset[\"off\"][\"Glucose [g/L]\"]\n",
    "#print(t_grid)\n",
    "#print(Carb_RR)\n",
    "\n",
    "#print(f)"
   ]
  },
  {
   "cell_type": "code",
   "execution_count": 226,
   "metadata": {},
   "outputs": [
    {
     "data": {
      "text/plain": [
       "<bound method BaseFigure.show of Figure({\n",
       "    'data': [{'hovertemplate': 'x=%{x}<br>y=%{y}<extra></extra>',\n",
       "              'legendgroup': '',\n",
       "              'marker': {'color': '#636efa', 'symbol': 'circle'},\n",
       "              'mode': 'markers',\n",
       "              'name': '',\n",
       "              'orientation': 'v',\n",
       "              'showlegend': False,\n",
       "              'type': 'scatter',\n",
       "              'x': array([ 0.06944444, 16.06944444, 17.75277778, 18.58611111, 19.83611111,\n",
       "                          20.80277778, 21.70277778, 22.85277778, 39.45277778, 40.71944444,\n",
       "                          41.95277778, 43.40277778, 44.73611111, 46.05277778, 47.33611111,\n",
       "                          63.71944444]),\n",
       "              'xaxis': 'x',\n",
       "              'y': array([0.        , 0.        , 0.        , 3.29783726, 3.61191678, 3.85620141,\n",
       "                          4.0830369 , 4.36221838, 6.63057184, 6.63057184, 6.63057184, 6.63057184,\n",
       "                          6.63057184, 6.63057184, 6.63057184, 3.14079738]),\n",
       "              'yaxis': 'y'}],\n",
       "    'layout': {'legend': {'tracegroupgap': 0},\n",
       "               'margin': {'t': 60},\n",
       "               'template': '...',\n",
       "               'xaxis': {'anchor': 'y', 'domain': [0.0, 1.0], 'title': {'text': 'x'}},\n",
       "               'yaxis': {'anchor': 'x', 'domain': [0.0, 1.0], 'title': {'text': 'y'}}}\n",
       "})>"
      ]
     },
     "execution_count": 226,
     "metadata": {},
     "output_type": "execute_result"
    }
   ],
   "source": [
    "import plotly.express as px\n",
    "\n",
    "\n",
    "fig = px.scatter(x=df_F_C_in.index, y=df_F_C_in[\"feedrate pure glucose g/h\"])\n",
    "fig.show"
   ]
  },
  {
   "cell_type": "code",
   "execution_count": null,
   "metadata": {},
   "outputs": [],
   "source": [
    "def calc_CRR(self,experiment, V, y0):\n",
    "\n",
    "    Mw_bm = 24.445          #g/mol molecular weight of biomass assuming composition of C=1,H=1.594,N=0.293,O=0.387,P=0.012,S=0.005\n",
    "    Mw_gluc = 180.156       #g/mol molecular weight of glucose C=6,H=12,O=6\n",
    "    Mw_RF = 376.36          #g/mol molecular weight of Riboflavin C=17,H=20,N=4,O=6\n",
    "    F_C_in = c[\"feedrate_glc\"](t_grid)\n",
    "        \n",
    "    amountC_given = (y0[0]/Mw_bm)+(y0[1]/Mw_gluc *6)+(y0[2]/Mw_RF *17)\n",
    "\n",
    "    t_grid = experiment.dataset[\"off\"].index.values\n",
    "    Carb_RR=[]\n",
    "    for t in t_grid:\n",
    "        \n",
    "        nC_S = float(a.dataset[\"off\"][\"Glucose [g/L]\"].loc[[t]])*V\n",
    "        nC_X = float(a.dataset[\"off\"][\"CDW_calc\"].loc[[t]])*V\n",
    "        nC_P = float(a.dataset[\"off\"][\"RF [mg/L]\"].loc[[t]])* V /1000\n",
    "        \n",
    "        amountC_found = nC_S + nC_X + nC_P+ nC_CO2_cum\n",
    "        Carb_RR = amountC_found / amountC_given\n",
    "        \n",
    "        return Carb_RR"
   ]
  }
 ],
 "metadata": {
  "interpreter": {
   "hash": "3776b54c573491d09a8e84dce8ca39a954a775ec43e38eb0a634b33ef2d6c0cb"
  },
  "kernelspec": {
   "display_name": "Python 3.8.12 ('MasterThesis_VB')",
   "language": "python",
   "name": "python3"
  },
  "language_info": {
   "codemirror_mode": {
    "name": "ipython",
    "version": 3
   },
   "file_extension": ".py",
   "mimetype": "text/x-python",
   "name": "python",
   "nbconvert_exporter": "python",
   "pygments_lexer": "ipython3",
   "version": "3.8.12"
  },
  "orig_nbformat": 4
 },
 "nbformat": 4,
 "nbformat_minor": 2
}
