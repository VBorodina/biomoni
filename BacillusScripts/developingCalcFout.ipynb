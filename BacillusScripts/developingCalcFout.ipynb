{
 "cells": [
  {
   "cell_type": "code",
   "execution_count": null,
   "metadata": {},
   "outputs": [],
   "source": [
    "import numpy as np\n",
    "import pandas as pd\n",
    "import matplotlib as plt\n",
    "from scipy.interpolate import interp1d\n",
    "\n",
    "\n",
    "#h\n",
    "x = np.arange(0,20,5)\n",
    "#mL\n",
    "y = np.arange(0,10,10/4)\n",
    "z = pd.DataFrame(y,index=x)\n",
    "print(z)\n",
    "#mL pro h\n",
    "z = np.diff(z[0], prepend =0)/np.diff(z.index, prepend =1)\n",
    "z_y =pd.to_numeric(z)\n",
    "z2 = pd.DataFrame(z_y, index= x)\n",
    "\n",
    "print(z2)\n",
    "\n",
    "\n",
    "a = interp1d(x = z2.index, y = z2[0] ,fill_value = (z2.iloc[0], z2.iloc[-1]), bounds_error= False)\n",
    "x2 = np.arange(0,22,1)\n",
    "b = pd.DataFrame(a(x2),index=x2)\n",
    "\n",
    "print(b)"
   ]
  },
  {
   "cell_type": "code",
   "execution_count": 70,
   "metadata": {},
   "outputs": [
    {
     "name": "stdout",
     "output_type": "stream",
     "text": [
      "           VolumeFlow [mL/h]\n",
      "t                           \n",
      "16.041667                0.0\n",
      "16.066667              231.2\n",
      "16.091667                0.0\n",
      "16.858333                0.0\n",
      "16.883333              202.0\n",
      "...                      ...\n",
      "64.566667              160.4\n",
      "64.591667                0.0\n",
      "65.741667                0.0\n",
      "65.766667              185.2\n",
      "65.791667                0.0\n",
      "\n",
      "[69 rows x 1 columns]\n",
      "<scipy.interpolate.interpolate.interp1d object at 0x000002EDB6B91EA0>\n",
      "148.13333333332184 201.97306666667725 0.0\n"
     ]
    }
   ],
   "source": [
    "import sys\n",
    "sys.path.append(\"V:/biomoni/\") \n",
    "from BacillusScripts.Experiment import Experiment\n",
    "import pandas as pd\n",
    "import numpy as np\n",
    "from scipy.interpolate import interp1d\n",
    "\n",
    "a = Experiment(\"V:/biomoni/BacillusData/Stamm185\",\"F3\",endpoint = \"F_end\")\n",
    "a.dataset[\"off\"]\n",
    "\n",
    "b = a.dataset[\"off\"][\"SampleVolume [g]\"]\n",
    "\n",
    "#turning Sample Volume into Flowrate mL/h that is necessry to flow for a period of 3 min to result the amount of Sample VOlume\n",
    "c= pd.DataFrame(b*40)\n",
    "c = c.rename(columns={\"SampleVolume [g]\":\"VolumeFlow [mL/h]\"})\n",
    "\n",
    "e_after= [x + 0.025 for x in c.index]\n",
    "e_before = [x - 0.025 for x in c.index]\n",
    "e_zero = [0] *(len(c.index))\n",
    "\n",
    "for i in e_after:\n",
    "    c.loc[i]= 0\n",
    "\n",
    "for i in e_before:\n",
    "    c.loc[i]=0\n",
    "\n",
    "Flow_raw= c.sort_index(axis =\"index\")\n",
    "print(Flow_raw)\n",
    "\n",
    "Flow = interp1d(x = Flow_raw.index, y = Flow_raw[\"VolumeFlow [mL/h]\"] ,fill_value = (Flow_raw.iloc[0], Flow_raw.iloc[-1]), bounds_error= False)\n",
    "\n",
    "test0 = Flow(16.89)\n",
    "test1 = Flow(16.88333)\n",
    "test2 = Flow(16.78)\n",
    "\n",
    "print(Flow)\n",
    "print(test0,test1,test2)"
   ]
  }
 ],
 "metadata": {
  "interpreter": {
   "hash": "3776b54c573491d09a8e84dce8ca39a954a775ec43e38eb0a634b33ef2d6c0cb"
  },
  "kernelspec": {
   "display_name": "Python 3.8.12 ('MasterThesis_VB')",
   "language": "python",
   "name": "python3"
  },
  "language_info": {
   "codemirror_mode": {
    "name": "ipython",
    "version": 3
   },
   "file_extension": ".py",
   "mimetype": "text/x-python",
   "name": "python",
   "nbconvert_exporter": "python",
   "pygments_lexer": "ipython3",
   "version": "3.8.12"
  },
  "orig_nbformat": 4
 },
 "nbformat": 4,
 "nbformat_minor": 2
}
