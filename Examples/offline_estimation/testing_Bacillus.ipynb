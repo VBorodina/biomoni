{
 "cells": [
  {
   "cell_type": "code",
   "execution_count": 81,
   "metadata": {},
   "outputs": [],
   "source": [
    "import sys\n",
    "sys.path.append(\"V:/biomoni/\")                      #without this line windows could not acces the package \n",
    "from biomoni.Experiment import Experiment\n",
    "from biomoni.BacillusVariableFeedrate import Bacillus_vf\n",
    "from biomoni.visualize import visualize\n",
    "from biomoni.visualizationBacillus import visualizeBacillusFermentation\n",
    "import pandas as pd\n",
    "import numpy as np\n",
    "from IPython.display import display\n"
   ]
  },
  {
   "cell_type": "code",
   "execution_count": 69,
   "metadata": {},
   "outputs": [],
   "source": [
    "path = r\"V:/biomoni/BacillusDaten/Stamm185\"\n",
    "\n",
    "experiment_dict = {exp : Experiment(path, exp) for exp in [\"F1\", \"F2\", \"F3\", \"F5\" ]}  #all experiments in a dictionary\n",
    "experiment_list = list(experiment_dict.values())\n",
    "y = Bacillus_vf()\n",
    "a = Experiment(path, \"F4\")"
   ]
  },
  {
   "cell_type": "code",
   "execution_count": 70,
   "metadata": {},
   "outputs": [],
   "source": [
    "#Creating dict /list with several experiments and process some of them\n",
    "experiment_dict = {exp : Experiment(path, exp) for exp in [\"F1\", \"F2\", \"F3\", \"F5\" ]}  #all experiments in a dictionary\n",
    "experiment_list = list(experiment_dict.values())\n"
   ]
  },
  {
   "cell_type": "code",
   "execution_count": 71,
   "metadata": {},
   "outputs": [
    {
     "data": {
      "text/html": [
       "<table><tr><th> name </th><th> value </th><th> initial value </th><th> min </th><th> max </th><th> vary </th></tr><tr><td> Yxs </td><td>  0.05000000 </td><td> 0.05 </td><td>  0.01000000 </td><td>  0.80000000 </td><td> False </td></tr><tr><td> mu_max </td><td>  5.0000e-04 </td><td> 0.0005 </td><td>  1.0000e-05 </td><td>  3.00000000 </td><td> True </td></tr></table>"
      ],
      "text/plain": [
       "Parameters([('Yxs', <Parameter 'Yxs', value=0.05 (fixed), bounds=[0.01:0.8]>),\n",
       "            ('mu_max', <Parameter 'mu_max', value=0.0005, bounds=[1e-05:3]>)])"
      ]
     },
     "metadata": {},
     "output_type": "display_data"
    }
   ],
   "source": [
    "b= Bacillus_vf()\n",
    "display(b.p)"
   ]
  },
  {
   "cell_type": "code",
   "execution_count": 72,
   "metadata": {},
   "outputs": [],
   "source": [
    "b.estimate(experiment_dict) "
   ]
  },
  {
   "cell_type": "code",
   "execution_count": 73,
   "metadata": {},
   "outputs": [
    {
     "name": "stdout",
     "output_type": "stream",
     "text": [
      "[[Fit Statistics]]\n",
      "    # fitting method   = leastsq\n",
      "    # function evals   = 37\n",
      "    # data points      = 54\n",
      "    # variables        = 1\n",
      "    chi-square         = 4279.63136\n",
      "    reduced chi-square = 80.7477614\n",
      "    Akaike info crit   = 238.122458\n",
      "    Bayesian info crit = 240.111442\n",
      "[[Variables]]\n",
      "    Yxs:     0.05 (fixed)\n",
      "    mu_max:  0.19716521 +/- 0.00991026 (5.03%) (init = 0.0005)\n"
     ]
    }
   ],
   "source": [
    "b.report()"
   ]
  },
  {
   "cell_type": "code",
   "execution_count": 74,
   "metadata": {},
   "outputs": [
    {
     "data": {
      "text/html": [
       "<table><tr><th> name </th><th> value </th><th> standard error </th><th> relative error </th><th> initial value </th><th> min </th><th> max </th><th> vary </th></tr><tr><td> Yxs </td><td>  0.05000000 </td><td>  0.00000000 </td><td> (0.00%) </td><td> 0.05 </td><td>  0.01000000 </td><td>  0.80000000 </td><td> False </td></tr><tr><td> mu_max </td><td>  0.19716521 </td><td>  0.00991026 </td><td> (5.03%) </td><td> 0.0005 </td><td>  1.0000e-05 </td><td>  3.00000000 </td><td> True </td></tr></table>"
      ],
      "text/plain": [
       "Parameters([('Yxs', <Parameter 'Yxs', value=0.05 (fixed), bounds=[0.01:0.8]>),\n",
       "            ('mu_max',\n",
       "             <Parameter 'mu_max', value=0.19716521114931332 +/- 0.00991, bounds=[1e-05:3]>)])"
      ]
     },
     "metadata": {},
     "output_type": "display_data"
    }
   ],
   "source": [
    "display(b.p)"
   ]
  },
  {
   "cell_type": "code",
   "execution_count": 75,
   "metadata": {},
   "outputs": [
    {
     "name": "stdout",
     "output_type": "stream",
     "text": [
      "{'F1': Experiment(\"V:/biomoni/BacillusDaten/Stamm185\" , \"F1\"), 'F2': Experiment(\"V:/biomoni/BacillusDaten/Stamm185\" , \"F2\"), 'F3': Experiment(\"V:/biomoni/BacillusDaten/Stamm185\" , \"F3\"), 'F5': Experiment(\"V:/biomoni/BacillusDaten/Stamm185\" , \"F5\")}\n"
     ]
    }
   ],
   "source": [
    "print(experiment_dict)"
   ]
  },
  {
   "cell_type": "code",
   "execution_count": 86,
   "metadata": {},
   "outputs": [
    {
     "ename": "ValueError",
     "evalue": "\nThe 'specs' argument to make_subplots must be a 2D list of dictionaries with dimensions (4 x 2).\n    Received value of type <class 'list'>: [[{'secondary_y': True}]]",
     "output_type": "error",
     "traceback": [
      "\u001b[1;31m---------------------------------------------------------------------------\u001b[0m",
      "\u001b[1;31mValueError\u001b[0m                                Traceback (most recent call last)",
      "\u001b[1;32m~\\AppData\\Local\\Temp/ipykernel_13480/3201265440.py\u001b[0m in \u001b[0;36m<module>\u001b[1;34m\u001b[0m\n\u001b[0;32m      4\u001b[0m \u001b[1;32mfor\u001b[0m \u001b[0mexp_id\u001b[0m  \u001b[1;32min\u001b[0m \u001b[0mexperiment_dict\u001b[0m\u001b[1;33m.\u001b[0m\u001b[0mkeys\u001b[0m\u001b[1;33m(\u001b[0m\u001b[1;33m)\u001b[0m\u001b[1;33m:\u001b[0m\u001b[1;33m\u001b[0m\u001b[1;33m\u001b[0m\u001b[0m\n\u001b[0;32m      5\u001b[0m     \u001b[0mtitle\u001b[0m \u001b[1;33m=\u001b[0m \u001b[1;34m\"Experiment {0}\"\u001b[0m\u001b[1;33m.\u001b[0m\u001b[0mformat\u001b[0m\u001b[1;33m(\u001b[0m\u001b[0mexp_id\u001b[0m\u001b[1;33m)\u001b[0m\u001b[1;33m\u001b[0m\u001b[1;33m\u001b[0m\u001b[0m\n\u001b[1;32m----> 6\u001b[1;33m     \u001b[0mvisualizeBacillusFermentation\u001b[0m\u001b[1;33m(\u001b[0m\u001b[0mexperiment_dict\u001b[0m\u001b[1;33m[\u001b[0m\u001b[0mexp_id\u001b[0m\u001b[1;33m]\u001b[0m \u001b[1;33m,\u001b[0m \u001b[0mexperiment_dataset_dict_all\u001b[0m\u001b[1;33m[\u001b[0m\u001b[0mexp_id\u001b[0m\u001b[1;33m]\u001b[0m\u001b[1;33m,\u001b[0m \u001b[0mtitle\u001b[0m \u001b[1;33m=\u001b[0m \u001b[0mtitle\u001b[0m\u001b[1;33m,\u001b[0m \u001b[0msuffix_1\u001b[0m\u001b[1;33m=\u001b[0m \u001b[1;34m\"_experimental\"\u001b[0m\u001b[1;33m,\u001b[0m \u001b[0msuffix_2\u001b[0m \u001b[1;33m=\u001b[0m \u001b[1;34m\"_fitted\"\u001b[0m\u001b[1;33m)\u001b[0m\u001b[1;33m\u001b[0m\u001b[1;33m\u001b[0m\u001b[0m\n\u001b[0m\u001b[0;32m      7\u001b[0m     \u001b[0mprint\u001b[0m\u001b[1;33m(\u001b[0m\u001b[0mexperiment_dataset_dict_all\u001b[0m\u001b[1;33m[\u001b[0m\u001b[0mexp_id\u001b[0m\u001b[1;33m]\u001b[0m\u001b[1;33m)\u001b[0m\u001b[1;33m\u001b[0m\u001b[1;33m\u001b[0m\u001b[0m\n",
      "\u001b[1;32mV:\\biomoni\\biomoni\\visualizationBacillus.py\u001b[0m in \u001b[0;36mvisualizeBacillusFermentation\u001b[1;34m(sim_data, Fdata, title, suffix_1, suffix_2, mode_1, mode_2)\u001b[0m\n\u001b[0;32m     47\u001b[0m             \u001b[0mdata_dict\u001b[0m\u001b[1;33m[\u001b[0m\u001b[0mi\u001b[0m\u001b[1;33m]\u001b[0m \u001b[1;33m=\u001b[0m \u001b[1;33m[\u001b[0m\u001b[0mdata\u001b[0m\u001b[1;33m]\u001b[0m\u001b[1;33m\u001b[0m\u001b[1;33m\u001b[0m\u001b[0m\n\u001b[0;32m     48\u001b[0m \u001b[1;33m\u001b[0m\u001b[0m\n\u001b[1;32m---> 49\u001b[1;33m     fig = make_subplots(rows= 4, cols=2, shared_xaxes =\"all\", start_cell = \"top-left\",specs =[[{\"secondary_y\" : True}, {\"secondary_y\" : True}],\n\u001b[0m\u001b[0;32m     50\u001b[0m                                                                                                \u001b[1;33m[\u001b[0m\u001b[1;33m{\u001b[0m\u001b[1;34m\"secondary_y\"\u001b[0m \u001b[1;33m:\u001b[0m \u001b[1;32mTrue\u001b[0m\u001b[1;33m}\u001b[0m\u001b[1;33m,\u001b[0m \u001b[1;33m{\u001b[0m\u001b[1;34m\"secondary_y\"\u001b[0m \u001b[1;33m:\u001b[0m \u001b[1;32mTrue\u001b[0m\u001b[1;33m}\u001b[0m\u001b[1;33m]\u001b[0m\u001b[1;33m,\u001b[0m\u001b[1;33m\u001b[0m\u001b[1;33m\u001b[0m\u001b[0m\n\u001b[0;32m     51\u001b[0m                                                                                                \u001b[1;33m[\u001b[0m\u001b[1;33m{\u001b[0m\u001b[1;34m\"secondary_y\"\u001b[0m \u001b[1;33m:\u001b[0m \u001b[1;32mTrue\u001b[0m\u001b[1;33m}\u001b[0m\u001b[1;33m,\u001b[0m \u001b[1;33m{\u001b[0m\u001b[1;34m\"secondary_y\"\u001b[0m \u001b[1;33m:\u001b[0m \u001b[1;32mTrue\u001b[0m\u001b[1;33m}\u001b[0m\u001b[1;33m]\u001b[0m\u001b[1;33m,\u001b[0m\u001b[1;33m\u001b[0m\u001b[1;33m\u001b[0m\u001b[0m\n",
      "\u001b[1;32mV:\\Anaconda\\envs\\MasterThesis_VB\\lib\\site-packages\\plotly\\subplots.py\u001b[0m in \u001b[0;36mmake_subplots\u001b[1;34m(rows, cols, shared_xaxes, shared_yaxes, start_cell, print_grid, horizontal_spacing, vertical_spacing, subplot_titles, column_widths, row_heights, specs, insets, column_titles, row_titles, x_title, y_title, figure, **kwargs)\u001b[0m\n\u001b[0;32m    443\u001b[0m         \u001b[1;32mand\u001b[0m \u001b[0mall\u001b[0m\u001b[1;33m(\u001b[0m\u001b[0mall\u001b[0m\u001b[1;33m(\u001b[0m\u001b[0mv\u001b[0m \u001b[1;32mis\u001b[0m \u001b[1;32mNone\u001b[0m \u001b[1;32mor\u001b[0m \u001b[0misinstance\u001b[0m\u001b[1;33m(\u001b[0m\u001b[0mv\u001b[0m\u001b[1;33m,\u001b[0m \u001b[0mdict\u001b[0m\u001b[1;33m)\u001b[0m \u001b[1;32mfor\u001b[0m \u001b[0mv\u001b[0m \u001b[1;32min\u001b[0m \u001b[0mrow\u001b[0m\u001b[1;33m)\u001b[0m \u001b[1;32mfor\u001b[0m \u001b[0mrow\u001b[0m \u001b[1;32min\u001b[0m \u001b[0mspecs\u001b[0m\u001b[1;33m)\u001b[0m\u001b[1;33m\u001b[0m\u001b[1;33m\u001b[0m\u001b[0m\n\u001b[0;32m    444\u001b[0m     ):\n\u001b[1;32m--> 445\u001b[1;33m         raise ValueError(\n\u001b[0m\u001b[0;32m    446\u001b[0m             \"\"\"\n\u001b[0;32m    447\u001b[0m \u001b[0mThe\u001b[0m \u001b[1;34m'specs'\u001b[0m \u001b[0margument\u001b[0m \u001b[0mto\u001b[0m \u001b[0mmake_subplots\u001b[0m \u001b[0mmust\u001b[0m \u001b[0mbe\u001b[0m \u001b[0ma\u001b[0m \u001b[1;36m2\u001b[0m\u001b[0mD\u001b[0m \u001b[0mlist\u001b[0m \u001b[0mof\u001b[0m \u001b[0mdictionaries\u001b[0m \u001b[1;32mwith\u001b[0m\u001b[0;31m \u001b[0m\u001b[0;31m\\\u001b[0m\u001b[1;33m\u001b[0m\u001b[1;33m\u001b[0m\u001b[0m\n",
      "\u001b[1;31mValueError\u001b[0m: \nThe 'specs' argument to make_subplots must be a 2D list of dictionaries with dimensions (4 x 2).\n    Received value of type <class 'list'>: [[{'secondary_y': True}]]"
     ]
    }
   ],
   "source": [
    "t_grid = np.linspace(0,64,101) \n",
    "\n",
    "experiment_dataset_dict_all = {experiment.exp_id: experiment.dataset for experiment in experiment_dict.values()}\n",
    "for exp_id  in experiment_dict.keys():\n",
    "    title = \"Experiment {0}\".format(exp_id) \n",
    "    visualizeBacillusFermentation(experiment_dict[exp_id] , experiment_dataset_dict_all[exp_id], title = title, suffix_1= \"_experimental\", suffix_2 = \"_fitted\")\n",
    "    print(experiment_dataset_dict_all[exp_id])"
   ]
  }
 ],
 "metadata": {
  "interpreter": {
   "hash": "3776b54c573491d09a8e84dce8ca39a954a775ec43e38eb0a634b33ef2d6c0cb"
  },
  "kernelspec": {
   "display_name": "Python 3.8.12 ('MasterThesis_VB')",
   "language": "python",
   "name": "python3"
  },
  "language_info": {
   "codemirror_mode": {
    "name": "ipython",
    "version": 3
   },
   "file_extension": ".py",
   "mimetype": "text/x-python",
   "name": "python",
   "nbconvert_exporter": "python",
   "pygments_lexer": "ipython3",
   "version": "3.8.12"
  },
  "orig_nbformat": 4
 },
 "nbformat": 4,
 "nbformat_minor": 2
}
